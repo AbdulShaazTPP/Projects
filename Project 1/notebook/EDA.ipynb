{
 "cells": [
  {
   "cell_type": "code",
   "execution_count": 217,
   "id": "b4c81fb1",
   "metadata": {},
   "outputs": [],
   "source": [
    "import pandas as pd\n",
    "import numpy as np\n",
    "import matplotlib.pyplot as plt\n",
    "import seaborn as sns"
   ]
  },
  {
   "cell_type": "code",
   "execution_count": 218,
   "id": "90442304",
   "metadata": {},
   "outputs": [
    {
     "data": {
      "application/vnd.microsoft.datawrangler.viewer.v0+json": {
       "columns": [
        {
         "name": "index",
         "rawType": "int64",
         "type": "integer"
        },
        {
         "name": "country",
         "rawType": "object",
         "type": "string"
        },
        {
         "name": "region",
         "rawType": "object",
         "type": "string"
        },
        {
         "name": "country_name",
         "rawType": "object",
         "type": "string"
        }
       ],
       "ref": "614ea090-501d-45a2-aa74-3a2d1026a039",
       "rows": [
        [
         "0",
         "ABW",
         "Latin America & Caribbean",
         "Aruba"
        ],
        [
         "1",
         "AFG",
         "South Asia",
         "Afghanistan"
        ],
        [
         "2",
         "AGO",
         "Sub-Saharan Africa",
         "Angola"
        ],
        [
         "3",
         "ALB",
         "Europe & Central Asia",
         "Albania"
        ],
        [
         "4",
         "AND",
         "Europe & Central Asia",
         "Andorra"
        ],
        [
         "5",
         "ARE",
         "Middle East & North Africa",
         "United Arab Emirates"
        ],
        [
         "6",
         "ARG",
         "Latin America & Caribbean",
         "Argentina"
        ],
        [
         "7",
         "ARM",
         "Europe & Central Asia",
         "Armenia"
        ],
        [
         "8",
         "ASM",
         "East Asia & Pacific",
         "American Samoa"
        ],
        [
         "9",
         "ATG",
         "Latin America & Caribbean",
         "Antigua and Barbuda"
        ],
        [
         "10",
         "AUS",
         "East Asia & Pacific",
         "Australia"
        ],
        [
         "11",
         "AUT",
         "Europe & Central Asia",
         "Austria"
        ],
        [
         "12",
         "AZE",
         "Europe & Central Asia",
         "Azerbaijan"
        ],
        [
         "13",
         "BDI",
         "Sub-Saharan Africa",
         "Burundi"
        ],
        [
         "14",
         "BEL",
         "Europe & Central Asia",
         "Belgium"
        ],
        [
         "15",
         "BEN",
         "Sub-Saharan Africa",
         "Benin"
        ],
        [
         "16",
         "BFA",
         "Sub-Saharan Africa",
         "Burkina Faso"
        ],
        [
         "17",
         "BGD",
         "South Asia",
         "Bangladesh"
        ],
        [
         "18",
         "BGR",
         "Europe & Central Asia",
         "Bulgaria"
        ],
        [
         "19",
         "BHR",
         "Middle East & North Africa",
         "Bahrain"
        ],
        [
         "20",
         "BHS",
         "Latin America & Caribbean",
         "Bahamas, The"
        ],
        [
         "21",
         "BIH",
         "Europe & Central Asia",
         "Bosnia and Herzegovina"
        ],
        [
         "22",
         "BLR",
         "Europe & Central Asia",
         "Belarus"
        ],
        [
         "23",
         "BLZ",
         "Latin America & Caribbean",
         "Belize"
        ],
        [
         "24",
         "BMU",
         "North America",
         "Bermuda"
        ],
        [
         "25",
         "BOL",
         "Latin America & Caribbean",
         "Bolivia"
        ],
        [
         "26",
         "BRA",
         "Latin America & Caribbean",
         "Brazil"
        ],
        [
         "27",
         "BRB",
         "Latin America & Caribbean",
         "Barbados"
        ],
        [
         "28",
         "BRN",
         "East Asia & Pacific",
         "Brunei Darussalam"
        ],
        [
         "29",
         "BTN",
         "South Asia",
         "Bhutan"
        ],
        [
         "30",
         "BWA",
         "Sub-Saharan Africa",
         "Botswana"
        ],
        [
         "31",
         "CAF",
         "Sub-Saharan Africa",
         "Central African Republic"
        ],
        [
         "32",
         "CAN",
         "North America",
         "Canada"
        ],
        [
         "33",
         "CHE",
         "Europe & Central Asia",
         "Switzerland"
        ],
        [
         "34",
         "CHI",
         "Europe & Central Asia",
         "Channel Islands"
        ],
        [
         "35",
         "CHL",
         "Latin America & Caribbean",
         "Chile"
        ],
        [
         "36",
         "CHN",
         "East Asia & Pacific",
         "China"
        ],
        [
         "37",
         "CIV",
         "Sub-Saharan Africa",
         "Côte d'Ivoire"
        ],
        [
         "38",
         "CMR",
         "Sub-Saharan Africa",
         "Cameroon"
        ],
        [
         "39",
         "COD",
         "Sub-Saharan Africa",
         "Congo, Dem. Rep."
        ],
        [
         "40",
         "COG",
         "Sub-Saharan Africa",
         "Congo, Rep."
        ],
        [
         "41",
         "COL",
         "Latin America & Caribbean",
         "Colombia"
        ],
        [
         "42",
         "COM",
         "Sub-Saharan Africa",
         "Comoros"
        ],
        [
         "43",
         "CPV",
         "Sub-Saharan Africa",
         "Cabo Verde"
        ],
        [
         "44",
         "CRI",
         "Latin America & Caribbean",
         "Costa Rica"
        ],
        [
         "45",
         "CUB",
         "Latin America & Caribbean",
         "Cuba"
        ],
        [
         "46",
         "CUW",
         "Latin America & Caribbean",
         "Curaçao"
        ],
        [
         "47",
         "CYM",
         "Latin America & Caribbean",
         "Cayman Islands"
        ],
        [
         "48",
         "CYP",
         "Europe & Central Asia",
         "Cyprus"
        ],
        [
         "49",
         "CZE",
         "Europe & Central Asia",
         "Czech Republic"
        ]
       ],
       "shape": {
        "columns": 3,
        "rows": 217
       }
      },
      "text/html": [
       "<div>\n",
       "<style scoped>\n",
       "    .dataframe tbody tr th:only-of-type {\n",
       "        vertical-align: middle;\n",
       "    }\n",
       "\n",
       "    .dataframe tbody tr th {\n",
       "        vertical-align: top;\n",
       "    }\n",
       "\n",
       "    .dataframe thead th {\n",
       "        text-align: right;\n",
       "    }\n",
       "</style>\n",
       "<table border=\"1\" class=\"dataframe\">\n",
       "  <thead>\n",
       "    <tr style=\"text-align: right;\">\n",
       "      <th></th>\n",
       "      <th>country</th>\n",
       "      <th>region</th>\n",
       "      <th>country_name</th>\n",
       "    </tr>\n",
       "  </thead>\n",
       "  <tbody>\n",
       "    <tr>\n",
       "      <th>0</th>\n",
       "      <td>ABW</td>\n",
       "      <td>Latin America &amp; Caribbean</td>\n",
       "      <td>Aruba</td>\n",
       "    </tr>\n",
       "    <tr>\n",
       "      <th>1</th>\n",
       "      <td>AFG</td>\n",
       "      <td>South Asia</td>\n",
       "      <td>Afghanistan</td>\n",
       "    </tr>\n",
       "    <tr>\n",
       "      <th>2</th>\n",
       "      <td>AGO</td>\n",
       "      <td>Sub-Saharan Africa</td>\n",
       "      <td>Angola</td>\n",
       "    </tr>\n",
       "    <tr>\n",
       "      <th>3</th>\n",
       "      <td>ALB</td>\n",
       "      <td>Europe &amp; Central Asia</td>\n",
       "      <td>Albania</td>\n",
       "    </tr>\n",
       "    <tr>\n",
       "      <th>4</th>\n",
       "      <td>AND</td>\n",
       "      <td>Europe &amp; Central Asia</td>\n",
       "      <td>Andorra</td>\n",
       "    </tr>\n",
       "    <tr>\n",
       "      <th>...</th>\n",
       "      <td>...</td>\n",
       "      <td>...</td>\n",
       "      <td>...</td>\n",
       "    </tr>\n",
       "    <tr>\n",
       "      <th>212</th>\n",
       "      <td>XKX</td>\n",
       "      <td>Europe &amp; Central Asia</td>\n",
       "      <td>Kosovo</td>\n",
       "    </tr>\n",
       "    <tr>\n",
       "      <th>213</th>\n",
       "      <td>YEM</td>\n",
       "      <td>Middle East &amp; North Africa</td>\n",
       "      <td>Yemen, Rep.</td>\n",
       "    </tr>\n",
       "    <tr>\n",
       "      <th>214</th>\n",
       "      <td>ZAF</td>\n",
       "      <td>Sub-Saharan Africa</td>\n",
       "      <td>South Africa</td>\n",
       "    </tr>\n",
       "    <tr>\n",
       "      <th>215</th>\n",
       "      <td>ZMB</td>\n",
       "      <td>Sub-Saharan Africa</td>\n",
       "      <td>Zambia</td>\n",
       "    </tr>\n",
       "    <tr>\n",
       "      <th>216</th>\n",
       "      <td>ZWE</td>\n",
       "      <td>Sub-Saharan Africa</td>\n",
       "      <td>Zimbabwe</td>\n",
       "    </tr>\n",
       "  </tbody>\n",
       "</table>\n",
       "<p>217 rows × 3 columns</p>\n",
       "</div>"
      ],
      "text/plain": [
       "    country                      region  country_name\n",
       "0       ABW   Latin America & Caribbean         Aruba\n",
       "1       AFG                  South Asia   Afghanistan\n",
       "2       AGO          Sub-Saharan Africa        Angola\n",
       "3       ALB       Europe & Central Asia       Albania\n",
       "4       AND       Europe & Central Asia       Andorra\n",
       "..      ...                         ...           ...\n",
       "212     XKX       Europe & Central Asia        Kosovo\n",
       "213     YEM  Middle East & North Africa   Yemen, Rep.\n",
       "214     ZAF          Sub-Saharan Africa  South Africa\n",
       "215     ZMB          Sub-Saharan Africa        Zambia\n",
       "216     ZWE          Sub-Saharan Africa      Zimbabwe\n",
       "\n",
       "[217 rows x 3 columns]"
      ]
     },
     "execution_count": 218,
     "metadata": {},
     "output_type": "execute_result"
    }
   ],
   "source": [
    "df = pd.read_csv(r\"D:\\portfolio\\ARcraft\\final project\\project 3\\data\\raw\\country_codes.csv\")\n",
    "df"
   ]
  },
  {
   "cell_type": "code",
   "execution_count": 219,
   "id": "0be3c8dc",
   "metadata": {},
   "outputs": [
    {
     "data": {
      "application/vnd.microsoft.datawrangler.viewer.v0+json": {
       "columns": [
        {
         "name": "index",
         "rawType": "object",
         "type": "string"
        },
        {
         "name": "country",
         "rawType": "object",
         "type": "unknown"
        },
        {
         "name": "region",
         "rawType": "object",
         "type": "unknown"
        },
        {
         "name": "country_name",
         "rawType": "object",
         "type": "unknown"
        }
       ],
       "ref": "a8d94f62-7300-4220-bd73-e2419356a131",
       "rows": [
        [
         "count",
         "217",
         "217",
         "217"
        ],
        [
         "unique",
         "217",
         "7",
         "217"
        ],
        [
         "top",
         "ABW",
         "Europe & Central Asia",
         "Aruba"
        ],
        [
         "freq",
         "1",
         "58",
         "1"
        ]
       ],
       "shape": {
        "columns": 3,
        "rows": 4
       }
      },
      "text/html": [
       "<div>\n",
       "<style scoped>\n",
       "    .dataframe tbody tr th:only-of-type {\n",
       "        vertical-align: middle;\n",
       "    }\n",
       "\n",
       "    .dataframe tbody tr th {\n",
       "        vertical-align: top;\n",
       "    }\n",
       "\n",
       "    .dataframe thead th {\n",
       "        text-align: right;\n",
       "    }\n",
       "</style>\n",
       "<table border=\"1\" class=\"dataframe\">\n",
       "  <thead>\n",
       "    <tr style=\"text-align: right;\">\n",
       "      <th></th>\n",
       "      <th>country</th>\n",
       "      <th>region</th>\n",
       "      <th>country_name</th>\n",
       "    </tr>\n",
       "  </thead>\n",
       "  <tbody>\n",
       "    <tr>\n",
       "      <th>count</th>\n",
       "      <td>217</td>\n",
       "      <td>217</td>\n",
       "      <td>217</td>\n",
       "    </tr>\n",
       "    <tr>\n",
       "      <th>unique</th>\n",
       "      <td>217</td>\n",
       "      <td>7</td>\n",
       "      <td>217</td>\n",
       "    </tr>\n",
       "    <tr>\n",
       "      <th>top</th>\n",
       "      <td>ABW</td>\n",
       "      <td>Europe &amp; Central Asia</td>\n",
       "      <td>Aruba</td>\n",
       "    </tr>\n",
       "    <tr>\n",
       "      <th>freq</th>\n",
       "      <td>1</td>\n",
       "      <td>58</td>\n",
       "      <td>1</td>\n",
       "    </tr>\n",
       "  </tbody>\n",
       "</table>\n",
       "</div>"
      ],
      "text/plain": [
       "       country                 region country_name\n",
       "count      217                    217          217\n",
       "unique     217                      7          217\n",
       "top        ABW  Europe & Central Asia        Aruba\n",
       "freq         1                     58            1"
      ]
     },
     "execution_count": 219,
     "metadata": {},
     "output_type": "execute_result"
    }
   ],
   "source": [
    "df.describe()"
   ]
  },
  {
   "cell_type": "code",
   "execution_count": 220,
   "id": "d568ccf6",
   "metadata": {},
   "outputs": [
    {
     "data": {
      "application/vnd.microsoft.datawrangler.viewer.v0+json": {
       "columns": [
        {
         "name": "index",
         "rawType": "object",
         "type": "string"
        },
        {
         "name": "0",
         "rawType": "int64",
         "type": "integer"
        }
       ],
       "ref": "4886e555-1782-4e82-9ef1-0022411f9401",
       "rows": [
        [
         "country",
         "0"
        ],
        [
         "region",
         "0"
        ],
        [
         "country_name",
         "0"
        ]
       ],
       "shape": {
        "columns": 1,
        "rows": 3
       }
      },
      "text/plain": [
       "country         0\n",
       "region          0\n",
       "country_name    0\n",
       "dtype: int64"
      ]
     },
     "execution_count": 220,
     "metadata": {},
     "output_type": "execute_result"
    }
   ],
   "source": [
    "df.isna().sum()"
   ]
  },
  {
   "cell_type": "code",
   "execution_count": 221,
   "id": "50c34851",
   "metadata": {},
   "outputs": [
    {
     "data": {
      "application/vnd.microsoft.datawrangler.viewer.v0+json": {
       "columns": [
        {
         "name": "country_name",
         "rawType": "object",
         "type": "string"
        },
        {
         "name": "count",
         "rawType": "int64",
         "type": "integer"
        }
       ],
       "ref": "6846b20b-1f39-4764-8203-cb5c2e5f000a",
       "rows": [
        [
         "Aruba",
         "1"
        ],
        [
         "Afghanistan",
         "1"
        ],
        [
         "Angola",
         "1"
        ],
        [
         "Albania",
         "1"
        ],
        [
         "Andorra",
         "1"
        ],
        [
         "United Arab Emirates",
         "1"
        ],
        [
         "Argentina",
         "1"
        ],
        [
         "Armenia",
         "1"
        ],
        [
         "American Samoa",
         "1"
        ],
        [
         "Antigua and Barbuda",
         "1"
        ],
        [
         "Australia",
         "1"
        ],
        [
         "Austria",
         "1"
        ],
        [
         "Azerbaijan",
         "1"
        ],
        [
         "Burundi",
         "1"
        ],
        [
         "Belgium",
         "1"
        ],
        [
         "Benin",
         "1"
        ],
        [
         "Burkina Faso",
         "1"
        ],
        [
         "Bangladesh",
         "1"
        ],
        [
         "Bulgaria",
         "1"
        ],
        [
         "Bahrain",
         "1"
        ],
        [
         "Bahamas, The",
         "1"
        ],
        [
         "Bosnia and Herzegovina",
         "1"
        ],
        [
         "Belarus",
         "1"
        ],
        [
         "Belize",
         "1"
        ],
        [
         "Bermuda",
         "1"
        ],
        [
         "Bolivia",
         "1"
        ],
        [
         "Brazil",
         "1"
        ],
        [
         "Barbados",
         "1"
        ],
        [
         "Brunei Darussalam",
         "1"
        ],
        [
         "Bhutan",
         "1"
        ],
        [
         "Botswana",
         "1"
        ],
        [
         "Central African Republic",
         "1"
        ],
        [
         "Canada",
         "1"
        ],
        [
         "Switzerland",
         "1"
        ],
        [
         "Channel Islands",
         "1"
        ],
        [
         "Chile",
         "1"
        ],
        [
         "China",
         "1"
        ],
        [
         "Côte d'Ivoire",
         "1"
        ],
        [
         "Cameroon",
         "1"
        ],
        [
         "Congo, Dem. Rep.",
         "1"
        ],
        [
         "Congo, Rep.",
         "1"
        ],
        [
         "Colombia",
         "1"
        ],
        [
         "Comoros",
         "1"
        ],
        [
         "Cabo Verde",
         "1"
        ],
        [
         "Costa Rica",
         "1"
        ],
        [
         "Cuba",
         "1"
        ],
        [
         "Curaçao",
         "1"
        ],
        [
         "Cayman Islands",
         "1"
        ],
        [
         "Cyprus",
         "1"
        ],
        [
         "Czech Republic",
         "1"
        ]
       ],
       "shape": {
        "columns": 1,
        "rows": 217
       }
      },
      "text/plain": [
       "country_name\n",
       "Aruba           1\n",
       "Afghanistan     1\n",
       "Angola          1\n",
       "Albania         1\n",
       "Andorra         1\n",
       "               ..\n",
       "Kosovo          1\n",
       "Yemen, Rep.     1\n",
       "South Africa    1\n",
       "Zambia          1\n",
       "Zimbabwe        1\n",
       "Name: count, Length: 217, dtype: int64"
      ]
     },
     "execution_count": 221,
     "metadata": {},
     "output_type": "execute_result"
    }
   ],
   "source": [
    "df[\"country_name\"].value_counts()"
   ]
  },
  {
   "cell_type": "code",
   "execution_count": 222,
   "id": "b514dd4b",
   "metadata": {},
   "outputs": [
    {
     "data": {
      "application/vnd.microsoft.datawrangler.viewer.v0+json": {
       "columns": [
        {
         "name": "index",
         "rawType": "int64",
         "type": "integer"
        },
        {
         "name": "country",
         "rawType": "object",
         "type": "string"
        },
        {
         "name": "year",
         "rawType": "float64",
         "type": "float"
        },
        {
         "name": "corruption_index",
         "rawType": "float64",
         "type": "float"
        },
        {
         "name": "homicide_rate",
         "rawType": "float64",
         "type": "float"
        },
        {
         "name": "GDP",
         "rawType": "float64",
         "type": "float"
        },
        {
         "name": "total_fisheries_per_ton",
         "rawType": "float64",
         "type": "float"
        },
        {
         "name": "total_military",
         "rawType": "float64",
         "type": "float"
        },
        {
         "name": "population",
         "rawType": "float64",
         "type": "float"
        },
        {
         "name": "unemployment_rate",
         "rawType": "float64",
         "type": "float"
        },
        {
         "name": "totalgr",
         "rawType": "float64",
         "type": "float"
        },
        {
         "name": "industryofgdp",
         "rawType": "float64",
         "type": "float"
        }
       ],
       "ref": "b63d1742-af87-4ac1-88b4-a0756edcd419",
       "rows": [
        [
         "0",
         "ABW",
         "1993.0",
         null,
         null,
         "14936.8272187795",
         "260.0",
         null,
         "72504.0",
         null,
         null,
         null
        ],
        [
         "1",
         "ABW",
         "1994.0",
         null,
         null,
         "16241.0465209443",
         "260.0",
         null,
         "76700.0",
         null,
         null,
         null
        ],
        [
         "2",
         "ABW",
         "1995.0",
         null,
         "7.4697475225",
         "16439.3563609282",
         "140.0",
         null,
         "80324.0",
         null,
         null,
         "0.153986419309119"
        ],
        [
         "3",
         "ABW",
         "1996.0",
         null,
         null,
         "16586.0684357542",
         "160.0",
         null,
         "83200.0",
         null,
         "0.31582995951417",
         "0.149866606211009"
        ],
        [
         "4",
         "ABW",
         "1997.0",
         null,
         null,
         "17927.7496352086",
         "205.0",
         null,
         "85451.0",
         null,
         "0.279613420860686",
         "0.171327192233916"
        ],
        [
         "5",
         "ABW",
         "1998.0",
         null,
         null,
         "19078.3431907515",
         "182.0",
         null,
         "87277.0",
         null,
         "0.271855082187186",
         "0.175136636772655"
        ],
        [
         "6",
         "ABW",
         "1999.0",
         null,
         "2.2469637902",
         "19356.2033894901",
         "175.0",
         null,
         "89005.0",
         null,
         "0.291309987029831",
         "0.15549271842299"
        ],
        [
         "7",
         "ABW",
         "2000.0",
         null,
         null,
         "20620.7006259175",
         "163.0",
         null,
         "90853.0",
         null,
         "0.275142771265404",
         "0.158253515750802"
        ],
        [
         "8",
         "ABW",
         "2001.0",
         null,
         "4.3060758731",
         "20669.0319688645",
         "163.0",
         null,
         "92898.0",
         null,
         "0.265960576640188",
         "0.159113471050335"
        ],
        [
         "9",
         "ABW",
         "2002.0",
         null,
         "5.2636011454",
         "20436.8871286309",
         "163.0",
         null,
         "94992.0",
         null,
         "0.262496346097632",
         "0.152834244604317"
        ],
        [
         "10",
         "ABW",
         "2003.0",
         null,
         "4.1230312526",
         "20833.7616116694",
         "160.0",
         null,
         "97017.0",
         null,
         "0.327968262964012",
         "0.167927031509121"
        ],
        [
         "11",
         "ABW",
         "2004.0",
         null,
         "2.0254395204",
         "22569.9749851801",
         "162.0",
         null,
         "98737.0",
         null,
         "0.251014764542033",
         "0.175977187264979"
        ],
        [
         "12",
         "ABW",
         "2005.0",
         null,
         "5.9983204703",
         "23300.0395575696",
         "162.0",
         null,
         "100031.0",
         null,
         "0.255698022768125",
         "0.185044103547459"
        ],
        [
         "13",
         "ABW",
         "2006.0",
         null,
         "4.9588416146",
         "24045.2724833547",
         "145.0",
         null,
         "100834.0",
         null,
         "0.272265805260729",
         "0.195727649769585"
        ],
        [
         "14",
         "ABW",
         "2007.0",
         null,
         "2.9636654614",
         "25835.1326676284",
         "159.0",
         null,
         "101222.0",
         null,
         "0.263586030664395",
         "0.189801110873745"
        ],
        [
         "15",
         "ABW",
         "2008.0",
         null,
         "4.9328150589",
         "27084.7036903653",
         "151.0",
         null,
         "101358.0",
         null,
         "0.273327731092437",
         "0.180314000814001"
        ],
        [
         "16",
         "ABW",
         "2009.0",
         null,
         "3.9427512518",
         "24630.4537141023",
         "163.0",
         null,
         "101455.0",
         null,
         "0.248",
         "0.16175408003577"
        ],
        [
         "17",
         "ABW",
         "2010.0",
         null,
         "3.9344907294",
         "23512.6025956397",
         "153.0",
         null,
         "101669.0",
         null,
         "0.277",
         null
        ],
        [
         "18",
         "ABW",
         "2011.0",
         null,
         "1.9598236159",
         "24985.9932813737",
         "168.0",
         null,
         "102046.0",
         null,
         "0.215",
         null
        ],
        [
         "19",
         "ABW",
         "2012.0",
         null,
         "3.8999658753",
         "24713.6980451285",
         "138.0",
         null,
         "102560.0",
         null,
         "0.224406071271447",
         null
        ],
        [
         "20",
         "ABW",
         "2013.0",
         null,
         "5.8159259439",
         "26189.4355088129",
         "142.0",
         null,
         "103159.0",
         null,
         "0.246733491583945",
         null
        ],
        [
         "21",
         "ABW",
         "2014.0",
         null,
         "1.9272278754",
         "26647.938100985",
         "142.0",
         null,
         "103774.0",
         null,
         "0.235715791693021",
         null
        ],
        [
         "22",
         "ABW",
         "2015.0",
         null,
         null,
         "27980.8806952751",
         "142.0",
         null,
         "104341.0",
         null,
         "0.262972187629722",
         null
        ],
        [
         "23",
         "ABW",
         "2016.0",
         null,
         null,
         "28281.35048163",
         "142.0",
         null,
         "104872.0",
         null,
         "0.265769554247267",
         null
        ],
        [
         "24",
         "ABW",
         "2017.0",
         null,
         null,
         "29007.6930034887",
         null,
         null,
         "105366.0",
         null,
         "0.253597497393118",
         null
        ],
        [
         "25",
         "ABW",
         "2018.0",
         null,
         null,
         null,
         null,
         null,
         "105845.0",
         null,
         "0.256730007917656",
         null
        ],
        [
         "26",
         "ABW",
         "2019.0",
         null,
         null,
         null,
         null,
         null,
         "106314.0",
         null,
         null,
         null
        ],
        [
         "27",
         "ABW",
         null,
         null,
         null,
         null,
         null,
         null,
         null,
         null,
         null,
         null
        ],
        [
         "28",
         "AFG",
         "1993.0",
         null,
         null,
         null,
         "1500.0",
         "45000.0",
         "15816603.0",
         "11.4420003890991",
         null,
         null
        ],
        [
         "29",
         "AFG",
         "1994.0",
         null,
         null,
         null,
         "1600.0",
         "45000.0",
         "17075727.0",
         "11.4700002670288",
         null,
         null
        ],
        [
         "30",
         "AFG",
         "1995.0",
         null,
         null,
         null,
         "1600.0",
         "383000.0",
         "18110657.0",
         "11.4770002365112",
         null,
         null
        ],
        [
         "31",
         "AFG",
         "1996.0",
         null,
         null,
         null,
         "1600.0",
         "429000.0",
         "18853437.0",
         "11.4989995956421",
         null,
         null
        ],
        [
         "32",
         "AFG",
         "1997.0",
         null,
         null,
         null,
         "1550.0",
         "429000.0",
         "19357126.0",
         "11.4799995422363",
         null,
         null
        ],
        [
         "33",
         "AFG",
         "1998.0",
         null,
         null,
         null,
         "1500.0",
         "400000.0",
         "19737765.0",
         "11.4720001220703",
         null,
         null
        ],
        [
         "34",
         "AFG",
         "1999.0",
         null,
         null,
         null,
         "1500.0",
         "400000.0",
         "20170844.0",
         "11.5469999313354",
         null,
         null
        ],
        [
         "35",
         "AFG",
         "2000.0",
         null,
         null,
         null,
         "1300.0",
         "400000.0",
         "20779953.0",
         "11.5170001983643",
         null,
         null
        ],
        [
         "36",
         "AFG",
         "2001.0",
         null,
         null,
         null,
         "1250.0",
         null,
         "21606988.0",
         "11.5129995346069",
         null,
         null
        ],
        [
         "37",
         "AFG",
         "2002.0",
         null,
         null,
         "179.426610967229",
         "1350.0",
         "120000.0",
         "22600770.0",
         "11.5959997177124",
         "0.0855607643939224",
         "0.238101270064854"
        ],
        [
         "38",
         "AFG",
         "2003.0",
         null,
         null,
         "190.683814295088",
         "1350.0",
         "130000.0",
         "23680871.0",
         "11.6040000915527",
         "0.120955036111048",
         "0.227108641828326"
        ],
        [
         "39",
         "AFG",
         "2004.0",
         null,
         null,
         "211.382116942655",
         "1450.0",
         "27000.0",
         "24726684.0",
         "11.5279998779297",
         "0.176214792912798",
         "0.262267897500666"
        ],
        [
         "40",
         "AFG",
         "2005.0",
         "2.5",
         null,
         "242.031284871985",
         "1450.0",
         "27000.0",
         "25654277.0",
         "11.4289999008179",
         "0.180929295961748",
         "0.268120992326398"
        ],
        [
         "41",
         "AFG",
         "2006.0",
         null,
         null,
         "263.733691663044",
         "1450.0",
         "51000.0",
         "26433049.0",
         "11.2239999771118",
         "0.198414708521906",
         "0.282107680719994"
        ],
        [
         "42",
         "AFG",
         "2007.0",
         "1.8",
         null,
         "359.693237501395",
         "2050.0",
         "51000.0",
         "27100536.0",
         "11.0459995269775",
         "0.204906111919648",
         "0.268822416082148"
        ],
        [
         "43",
         "AFG",
         "2008.0",
         "1.5",
         null,
         "364.6607447985",
         "2050.0",
         "94000.0",
         "27722276.0",
         "10.9849996566772",
         "0.184655920024096",
         "0.269156280026285"
        ],
        [
         "44",
         "AFG",
         "2009.0",
         "1.3",
         "3.9267744953",
         "438.076034406941",
         "2050.0",
         "255745.0",
         "28394813.0",
         "11.3870000839233",
         "0.216651918302085",
         "0.218971222069406"
        ],
        [
         "45",
         "AFG",
         "2010.0",
         "1.4",
         "3.3681096075",
         "543.303041863931",
         "2050.0",
         "306800.0",
         "29185507.0",
         "11.4840002059937",
         "0.231065730252403",
         "0.211514206977128"
        ],
        [
         "46",
         "AFG",
         "2011.0",
         "1.5",
         "4.0873367236",
         "591.162759035926",
         "2050.0",
         "340350.0",
         "30117413.0",
         "11.4879999160767",
         "0.228188381419228",
         "0.227402524820273"
        ],
        [
         "47",
         "AFG",
         "2012.0",
         "8.0",
         "6.2513281666",
         "641.871479157539",
         "2050.0",
         "338150.0",
         "31161376.0",
         "11.5080003738403",
         "0.221095452096184",
         "0.211578071539751"
        ],
        [
         "48",
         "AFG",
         "2013.0",
         "8.0",
         null,
         "637.165523187024",
         "2050.0",
         "330650.0",
         "32269589.0",
         "11.5340003967285",
         "0.271053618868455",
         "0.204446053132561"
        ],
        [
         "49",
         "AFG",
         "2014.0",
         "12.0",
         null,
         "613.856689167623",
         "2100.0",
         "308800.0",
         "33370794.0",
         "11.4479999542236",
         "0.235595980698201",
         "0.212296632181805"
        ]
       ],
       "shape": {
        "columns": 11,
        "rows": 5899
       }
      },
      "text/html": [
       "<div>\n",
       "<style scoped>\n",
       "    .dataframe tbody tr th:only-of-type {\n",
       "        vertical-align: middle;\n",
       "    }\n",
       "\n",
       "    .dataframe tbody tr th {\n",
       "        vertical-align: top;\n",
       "    }\n",
       "\n",
       "    .dataframe thead th {\n",
       "        text-align: right;\n",
       "    }\n",
       "</style>\n",
       "<table border=\"1\" class=\"dataframe\">\n",
       "  <thead>\n",
       "    <tr style=\"text-align: right;\">\n",
       "      <th></th>\n",
       "      <th>country</th>\n",
       "      <th>year</th>\n",
       "      <th>corruption_index</th>\n",
       "      <th>homicide_rate</th>\n",
       "      <th>GDP</th>\n",
       "      <th>total_fisheries_per_ton</th>\n",
       "      <th>total_military</th>\n",
       "      <th>population</th>\n",
       "      <th>unemployment_rate</th>\n",
       "      <th>totalgr</th>\n",
       "      <th>industryofgdp</th>\n",
       "    </tr>\n",
       "  </thead>\n",
       "  <tbody>\n",
       "    <tr>\n",
       "      <th>0</th>\n",
       "      <td>ABW</td>\n",
       "      <td>1993.0</td>\n",
       "      <td>NaN</td>\n",
       "      <td>NaN</td>\n",
       "      <td>14936.827219</td>\n",
       "      <td>260.0</td>\n",
       "      <td>NaN</td>\n",
       "      <td>72504.0</td>\n",
       "      <td>NaN</td>\n",
       "      <td>NaN</td>\n",
       "      <td>NaN</td>\n",
       "    </tr>\n",
       "    <tr>\n",
       "      <th>1</th>\n",
       "      <td>ABW</td>\n",
       "      <td>1994.0</td>\n",
       "      <td>NaN</td>\n",
       "      <td>NaN</td>\n",
       "      <td>16241.046521</td>\n",
       "      <td>260.0</td>\n",
       "      <td>NaN</td>\n",
       "      <td>76700.0</td>\n",
       "      <td>NaN</td>\n",
       "      <td>NaN</td>\n",
       "      <td>NaN</td>\n",
       "    </tr>\n",
       "    <tr>\n",
       "      <th>2</th>\n",
       "      <td>ABW</td>\n",
       "      <td>1995.0</td>\n",
       "      <td>NaN</td>\n",
       "      <td>7.469748</td>\n",
       "      <td>16439.356361</td>\n",
       "      <td>140.0</td>\n",
       "      <td>NaN</td>\n",
       "      <td>80324.0</td>\n",
       "      <td>NaN</td>\n",
       "      <td>NaN</td>\n",
       "      <td>0.153986</td>\n",
       "    </tr>\n",
       "    <tr>\n",
       "      <th>3</th>\n",
       "      <td>ABW</td>\n",
       "      <td>1996.0</td>\n",
       "      <td>NaN</td>\n",
       "      <td>NaN</td>\n",
       "      <td>16586.068436</td>\n",
       "      <td>160.0</td>\n",
       "      <td>NaN</td>\n",
       "      <td>83200.0</td>\n",
       "      <td>NaN</td>\n",
       "      <td>0.315830</td>\n",
       "      <td>0.149867</td>\n",
       "    </tr>\n",
       "    <tr>\n",
       "      <th>4</th>\n",
       "      <td>ABW</td>\n",
       "      <td>1997.0</td>\n",
       "      <td>NaN</td>\n",
       "      <td>NaN</td>\n",
       "      <td>17927.749635</td>\n",
       "      <td>205.0</td>\n",
       "      <td>NaN</td>\n",
       "      <td>85451.0</td>\n",
       "      <td>NaN</td>\n",
       "      <td>0.279613</td>\n",
       "      <td>0.171327</td>\n",
       "    </tr>\n",
       "    <tr>\n",
       "      <th>...</th>\n",
       "      <td>...</td>\n",
       "      <td>...</td>\n",
       "      <td>...</td>\n",
       "      <td>...</td>\n",
       "      <td>...</td>\n",
       "      <td>...</td>\n",
       "      <td>...</td>\n",
       "      <td>...</td>\n",
       "      <td>...</td>\n",
       "      <td>...</td>\n",
       "      <td>...</td>\n",
       "    </tr>\n",
       "    <tr>\n",
       "      <th>5894</th>\n",
       "      <td>ZWE</td>\n",
       "      <td>2015.0</td>\n",
       "      <td>21.0</td>\n",
       "      <td>NaN</td>\n",
       "      <td>1445.071062</td>\n",
       "      <td>25500.0</td>\n",
       "      <td>50800.0</td>\n",
       "      <td>13814629.0</td>\n",
       "      <td>5.302</td>\n",
       "      <td>0.187196</td>\n",
       "      <td>0.223584</td>\n",
       "    </tr>\n",
       "    <tr>\n",
       "      <th>5895</th>\n",
       "      <td>ZWE</td>\n",
       "      <td>2016.0</td>\n",
       "      <td>22.0</td>\n",
       "      <td>NaN</td>\n",
       "      <td>1464.583529</td>\n",
       "      <td>25796.0</td>\n",
       "      <td>50800.0</td>\n",
       "      <td>14030390.0</td>\n",
       "      <td>5.253</td>\n",
       "      <td>0.168317</td>\n",
       "      <td>0.221151</td>\n",
       "    </tr>\n",
       "    <tr>\n",
       "      <th>5896</th>\n",
       "      <td>ZWE</td>\n",
       "      <td>2017.0</td>\n",
       "      <td>22.0</td>\n",
       "      <td>NaN</td>\n",
       "      <td>1548.170056</td>\n",
       "      <td>NaN</td>\n",
       "      <td>51000.0</td>\n",
       "      <td>14236745.0</td>\n",
       "      <td>5.168</td>\n",
       "      <td>0.141045</td>\n",
       "      <td>0.214050</td>\n",
       "    </tr>\n",
       "    <tr>\n",
       "      <th>5897</th>\n",
       "      <td>ZWE</td>\n",
       "      <td>2018.0</td>\n",
       "      <td>22.0</td>\n",
       "      <td>NaN</td>\n",
       "      <td>1683.740577</td>\n",
       "      <td>NaN</td>\n",
       "      <td>NaN</td>\n",
       "      <td>14439018.0</td>\n",
       "      <td>5.087</td>\n",
       "      <td>0.128309</td>\n",
       "      <td>0.206429</td>\n",
       "    </tr>\n",
       "    <tr>\n",
       "      <th>5898</th>\n",
       "      <td>ZWE</td>\n",
       "      <td>2019.0</td>\n",
       "      <td>24.0</td>\n",
       "      <td>NaN</td>\n",
       "      <td>1463.985910</td>\n",
       "      <td>NaN</td>\n",
       "      <td>NaN</td>\n",
       "      <td>14645468.0</td>\n",
       "      <td>4.954</td>\n",
       "      <td>NaN</td>\n",
       "      <td>NaN</td>\n",
       "    </tr>\n",
       "  </tbody>\n",
       "</table>\n",
       "<p>5899 rows × 11 columns</p>\n",
       "</div>"
      ],
      "text/plain": [
       "     country    year  corruption_index  homicide_rate           GDP  \\\n",
       "0        ABW  1993.0               NaN            NaN  14936.827219   \n",
       "1        ABW  1994.0               NaN            NaN  16241.046521   \n",
       "2        ABW  1995.0               NaN       7.469748  16439.356361   \n",
       "3        ABW  1996.0               NaN            NaN  16586.068436   \n",
       "4        ABW  1997.0               NaN            NaN  17927.749635   \n",
       "...      ...     ...               ...            ...           ...   \n",
       "5894     ZWE  2015.0              21.0            NaN   1445.071062   \n",
       "5895     ZWE  2016.0              22.0            NaN   1464.583529   \n",
       "5896     ZWE  2017.0              22.0            NaN   1548.170056   \n",
       "5897     ZWE  2018.0              22.0            NaN   1683.740577   \n",
       "5898     ZWE  2019.0              24.0            NaN   1463.985910   \n",
       "\n",
       "      total_fisheries_per_ton  total_military  population  unemployment_rate  \\\n",
       "0                       260.0             NaN     72504.0                NaN   \n",
       "1                       260.0             NaN     76700.0                NaN   \n",
       "2                       140.0             NaN     80324.0                NaN   \n",
       "3                       160.0             NaN     83200.0                NaN   \n",
       "4                       205.0             NaN     85451.0                NaN   \n",
       "...                       ...             ...         ...                ...   \n",
       "5894                  25500.0         50800.0  13814629.0              5.302   \n",
       "5895                  25796.0         50800.0  14030390.0              5.253   \n",
       "5896                      NaN         51000.0  14236745.0              5.168   \n",
       "5897                      NaN             NaN  14439018.0              5.087   \n",
       "5898                      NaN             NaN  14645468.0              4.954   \n",
       "\n",
       "       totalgr  industryofgdp  \n",
       "0          NaN            NaN  \n",
       "1          NaN            NaN  \n",
       "2          NaN       0.153986  \n",
       "3     0.315830       0.149867  \n",
       "4     0.279613       0.171327  \n",
       "...        ...            ...  \n",
       "5894  0.187196       0.223584  \n",
       "5895  0.168317       0.221151  \n",
       "5896  0.141045       0.214050  \n",
       "5897  0.128309       0.206429  \n",
       "5898       NaN            NaN  \n",
       "\n",
       "[5899 rows x 11 columns]"
      ]
     },
     "execution_count": 222,
     "metadata": {},
     "output_type": "execute_result"
    }
   ],
   "source": [
    "df2 = pd.read_csv(r\"D:\\portfolio\\ARcraft\\final project\\project 3\\data\\raw\\country_indicators.csv\")\n",
    "df2"
   ]
  },
  {
   "cell_type": "code",
   "execution_count": 223,
   "id": "2afc6e97",
   "metadata": {},
   "outputs": [
    {
     "data": {
      "application/vnd.microsoft.datawrangler.viewer.v0+json": {
       "columns": [
        {
         "name": "index",
         "rawType": "int64",
         "type": "integer"
        },
        {
         "name": "country",
         "rawType": "object",
         "type": "string"
        },
        {
         "name": "year",
         "rawType": "float64",
         "type": "float"
        },
        {
         "name": "corruption_index",
         "rawType": "float64",
         "type": "float"
        },
        {
         "name": "homicide_rate",
         "rawType": "float64",
         "type": "float"
        },
        {
         "name": "GDP",
         "rawType": "float64",
         "type": "float"
        },
        {
         "name": "total_fisheries_per_ton",
         "rawType": "float64",
         "type": "float"
        },
        {
         "name": "total_military",
         "rawType": "float64",
         "type": "float"
        },
        {
         "name": "population",
         "rawType": "float64",
         "type": "float"
        },
        {
         "name": "unemployment_rate",
         "rawType": "float64",
         "type": "float"
        },
        {
         "name": "totalgr",
         "rawType": "float64",
         "type": "float"
        },
        {
         "name": "industryofgdp",
         "rawType": "float64",
         "type": "float"
        }
       ],
       "ref": "2fcb056c-7588-4f79-b42b-d025ed6abaa5",
       "rows": [
        [
         "0",
         "ABW",
         "1993.0",
         null,
         null,
         "14936.8272187795",
         "260.0",
         null,
         "72504.0",
         null,
         null,
         null
        ],
        [
         "1",
         "ABW",
         "1994.0",
         null,
         null,
         "16241.0465209443",
         "260.0",
         null,
         "76700.0",
         null,
         null,
         null
        ],
        [
         "2",
         "ABW",
         "1995.0",
         null,
         "7.4697475225",
         "16439.3563609282",
         "140.0",
         null,
         "80324.0",
         null,
         null,
         "0.153986419309119"
        ],
        [
         "3",
         "ABW",
         "1996.0",
         null,
         null,
         "16586.0684357542",
         "160.0",
         null,
         "83200.0",
         null,
         "0.31582995951417",
         "0.149866606211009"
        ],
        [
         "4",
         "ABW",
         "1997.0",
         null,
         null,
         "17927.7496352086",
         "205.0",
         null,
         "85451.0",
         null,
         "0.279613420860686",
         "0.171327192233916"
        ]
       ],
       "shape": {
        "columns": 11,
        "rows": 5
       }
      },
      "text/html": [
       "<div>\n",
       "<style scoped>\n",
       "    .dataframe tbody tr th:only-of-type {\n",
       "        vertical-align: middle;\n",
       "    }\n",
       "\n",
       "    .dataframe tbody tr th {\n",
       "        vertical-align: top;\n",
       "    }\n",
       "\n",
       "    .dataframe thead th {\n",
       "        text-align: right;\n",
       "    }\n",
       "</style>\n",
       "<table border=\"1\" class=\"dataframe\">\n",
       "  <thead>\n",
       "    <tr style=\"text-align: right;\">\n",
       "      <th></th>\n",
       "      <th>country</th>\n",
       "      <th>year</th>\n",
       "      <th>corruption_index</th>\n",
       "      <th>homicide_rate</th>\n",
       "      <th>GDP</th>\n",
       "      <th>total_fisheries_per_ton</th>\n",
       "      <th>total_military</th>\n",
       "      <th>population</th>\n",
       "      <th>unemployment_rate</th>\n",
       "      <th>totalgr</th>\n",
       "      <th>industryofgdp</th>\n",
       "    </tr>\n",
       "  </thead>\n",
       "  <tbody>\n",
       "    <tr>\n",
       "      <th>0</th>\n",
       "      <td>ABW</td>\n",
       "      <td>1993.0</td>\n",
       "      <td>NaN</td>\n",
       "      <td>NaN</td>\n",
       "      <td>14936.827219</td>\n",
       "      <td>260.0</td>\n",
       "      <td>NaN</td>\n",
       "      <td>72504.0</td>\n",
       "      <td>NaN</td>\n",
       "      <td>NaN</td>\n",
       "      <td>NaN</td>\n",
       "    </tr>\n",
       "    <tr>\n",
       "      <th>1</th>\n",
       "      <td>ABW</td>\n",
       "      <td>1994.0</td>\n",
       "      <td>NaN</td>\n",
       "      <td>NaN</td>\n",
       "      <td>16241.046521</td>\n",
       "      <td>260.0</td>\n",
       "      <td>NaN</td>\n",
       "      <td>76700.0</td>\n",
       "      <td>NaN</td>\n",
       "      <td>NaN</td>\n",
       "      <td>NaN</td>\n",
       "    </tr>\n",
       "    <tr>\n",
       "      <th>2</th>\n",
       "      <td>ABW</td>\n",
       "      <td>1995.0</td>\n",
       "      <td>NaN</td>\n",
       "      <td>7.469748</td>\n",
       "      <td>16439.356361</td>\n",
       "      <td>140.0</td>\n",
       "      <td>NaN</td>\n",
       "      <td>80324.0</td>\n",
       "      <td>NaN</td>\n",
       "      <td>NaN</td>\n",
       "      <td>0.153986</td>\n",
       "    </tr>\n",
       "    <tr>\n",
       "      <th>3</th>\n",
       "      <td>ABW</td>\n",
       "      <td>1996.0</td>\n",
       "      <td>NaN</td>\n",
       "      <td>NaN</td>\n",
       "      <td>16586.068436</td>\n",
       "      <td>160.0</td>\n",
       "      <td>NaN</td>\n",
       "      <td>83200.0</td>\n",
       "      <td>NaN</td>\n",
       "      <td>0.315830</td>\n",
       "      <td>0.149867</td>\n",
       "    </tr>\n",
       "    <tr>\n",
       "      <th>4</th>\n",
       "      <td>ABW</td>\n",
       "      <td>1997.0</td>\n",
       "      <td>NaN</td>\n",
       "      <td>NaN</td>\n",
       "      <td>17927.749635</td>\n",
       "      <td>205.0</td>\n",
       "      <td>NaN</td>\n",
       "      <td>85451.0</td>\n",
       "      <td>NaN</td>\n",
       "      <td>0.279613</td>\n",
       "      <td>0.171327</td>\n",
       "    </tr>\n",
       "  </tbody>\n",
       "</table>\n",
       "</div>"
      ],
      "text/plain": [
       "  country    year  corruption_index  homicide_rate           GDP  \\\n",
       "0     ABW  1993.0               NaN            NaN  14936.827219   \n",
       "1     ABW  1994.0               NaN            NaN  16241.046521   \n",
       "2     ABW  1995.0               NaN       7.469748  16439.356361   \n",
       "3     ABW  1996.0               NaN            NaN  16586.068436   \n",
       "4     ABW  1997.0               NaN            NaN  17927.749635   \n",
       "\n",
       "   total_fisheries_per_ton  total_military  population  unemployment_rate  \\\n",
       "0                    260.0             NaN     72504.0                NaN   \n",
       "1                    260.0             NaN     76700.0                NaN   \n",
       "2                    140.0             NaN     80324.0                NaN   \n",
       "3                    160.0             NaN     83200.0                NaN   \n",
       "4                    205.0             NaN     85451.0                NaN   \n",
       "\n",
       "    totalgr  industryofgdp  \n",
       "0       NaN            NaN  \n",
       "1       NaN            NaN  \n",
       "2       NaN       0.153986  \n",
       "3  0.315830       0.149867  \n",
       "4  0.279613       0.171327  "
      ]
     },
     "execution_count": 223,
     "metadata": {},
     "output_type": "execute_result"
    }
   ],
   "source": [
    "df2.head()"
   ]
  },
  {
   "cell_type": "code",
   "execution_count": 224,
   "id": "cd7023b2",
   "metadata": {},
   "outputs": [
    {
     "data": {
      "text/plain": [
       "Index(['country', 'year', 'corruption_index', 'homicide_rate', 'GDP',\n",
       "       'total_fisheries_per_ton', 'total_military', 'population',\n",
       "       'unemployment_rate', 'totalgr', 'industryofgdp'],\n",
       "      dtype='object')"
      ]
     },
     "execution_count": 224,
     "metadata": {},
     "output_type": "execute_result"
    }
   ],
   "source": [
    "df2.columns"
   ]
  },
  {
   "cell_type": "code",
   "execution_count": 225,
   "id": "8726601c",
   "metadata": {},
   "outputs": [
    {
     "data": {
      "application/vnd.microsoft.datawrangler.viewer.v0+json": {
       "columns": [
        {
         "name": "index",
         "rawType": "object",
         "type": "string"
        },
        {
         "name": "0",
         "rawType": "int64",
         "type": "integer"
        }
       ],
       "ref": "dff4d4e3-a0ed-4cfa-9bdb-dcd07e912294",
       "rows": [
        [
         "country",
         "0"
        ],
        [
         "year",
         "34"
        ],
        [
         "corruption_index",
         "2522"
        ],
        [
         "homicide_rate",
         "2479"
        ],
        [
         "GDP",
         "520"
        ],
        [
         "total_fisheries_per_ton",
         "908"
        ],
        [
         "total_military",
         "1766"
        ],
        [
         "population",
         "41"
        ],
        [
         "unemployment_rate",
         "844"
        ],
        [
         "totalgr",
         "1780"
        ],
        [
         "industryofgdp",
         "1024"
        ]
       ],
       "shape": {
        "columns": 1,
        "rows": 11
       }
      },
      "text/plain": [
       "country                       0\n",
       "year                         34\n",
       "corruption_index           2522\n",
       "homicide_rate              2479\n",
       "GDP                         520\n",
       "total_fisheries_per_ton     908\n",
       "total_military             1766\n",
       "population                   41\n",
       "unemployment_rate           844\n",
       "totalgr                    1780\n",
       "industryofgdp              1024\n",
       "dtype: int64"
      ]
     },
     "execution_count": 225,
     "metadata": {},
     "output_type": "execute_result"
    }
   ],
   "source": [
    "df2.isna().sum()"
   ]
  },
  {
   "cell_type": "code",
   "execution_count": 226,
   "id": "109e2656",
   "metadata": {},
   "outputs": [],
   "source": [
    "df2 = df2.dropna(subset=['year'])\n"
   ]
  },
  {
   "cell_type": "code",
   "execution_count": 227,
   "id": "f1cbb9c1",
   "metadata": {},
   "outputs": [
    {
     "name": "stdout",
     "output_type": "stream",
     "text": [
      "0\n"
     ]
    },
    {
     "name": "stderr",
     "output_type": "stream",
     "text": [
      "C:\\Users\\abdul\\AppData\\Local\\Temp\\ipykernel_2076\\2409919328.py:2: SettingWithCopyWarning: \n",
      "A value is trying to be set on a copy of a slice from a DataFrame.\n",
      "Try using .loc[row_indexer,col_indexer] = value instead\n",
      "\n",
      "See the caveats in the documentation: https://pandas.pydata.org/pandas-docs/stable/user_guide/indexing.html#returning-a-view-versus-a-copy\n",
      "  df2['corruption_index'] = df2['corruption_index'].fillna(df2['corruption_index'].mean())\n"
     ]
    }
   ],
   "source": [
    "mean = df2['corruption_index'].mean()\n",
    "df2['corruption_index'] = df2['corruption_index'].fillna(df2['corruption_index'].mean())\n",
    "\n",
    "print(df2['corruption_index'].isnull().sum())"
   ]
  },
  {
   "cell_type": "code",
   "execution_count": 228,
   "id": "767c3d3d",
   "metadata": {},
   "outputs": [
    {
     "name": "stdout",
     "output_type": "stream",
     "text": [
      "0\n"
     ]
    },
    {
     "name": "stderr",
     "output_type": "stream",
     "text": [
      "C:\\Users\\abdul\\AppData\\Local\\Temp\\ipykernel_2076\\1939303549.py:2: SettingWithCopyWarning: \n",
      "A value is trying to be set on a copy of a slice from a DataFrame.\n",
      "Try using .loc[row_indexer,col_indexer] = value instead\n",
      "\n",
      "See the caveats in the documentation: https://pandas.pydata.org/pandas-docs/stable/user_guide/indexing.html#returning-a-view-versus-a-copy\n",
      "  df2['homicide_rate'] = df2['homicide_rate'].fillna(df2['homicide_rate'].mean())\n"
     ]
    }
   ],
   "source": [
    "mean_homicide = df2['homicide_rate'].mean()\n",
    "df2['homicide_rate'] = df2['homicide_rate'].fillna(df2['homicide_rate'].mean())\n",
    "\n",
    "print(df2['homicide_rate'].isnull().sum())"
   ]
  },
  {
   "cell_type": "code",
   "execution_count": 229,
   "id": "c9eb8d2a",
   "metadata": {},
   "outputs": [
    {
     "name": "stdout",
     "output_type": "stream",
     "text": [
      "0\n"
     ]
    },
    {
     "name": "stderr",
     "output_type": "stream",
     "text": [
      "C:\\Users\\abdul\\AppData\\Local\\Temp\\ipykernel_2076\\2362244291.py:2: SettingWithCopyWarning: \n",
      "A value is trying to be set on a copy of a slice from a DataFrame.\n",
      "Try using .loc[row_indexer,col_indexer] = value instead\n",
      "\n",
      "See the caveats in the documentation: https://pandas.pydata.org/pandas-docs/stable/user_guide/indexing.html#returning-a-view-versus-a-copy\n",
      "  df2['GDP'] = df2['GDP'].fillna(df2['GDP'].mean())\n"
     ]
    }
   ],
   "source": [
    "mean_GDP = df2['GDP'].mean()\n",
    "df2['GDP'] = df2['GDP'].fillna(df2['GDP'].mean())\n",
    "\n",
    "print(df2['GDP'].isnull().sum())"
   ]
  },
  {
   "cell_type": "code",
   "execution_count": 230,
   "id": "68337831",
   "metadata": {},
   "outputs": [
    {
     "name": "stdout",
     "output_type": "stream",
     "text": [
      "0\n"
     ]
    },
    {
     "name": "stderr",
     "output_type": "stream",
     "text": [
      "C:\\Users\\abdul\\AppData\\Local\\Temp\\ipykernel_2076\\1378802775.py:2: SettingWithCopyWarning: \n",
      "A value is trying to be set on a copy of a slice from a DataFrame.\n",
      "Try using .loc[row_indexer,col_indexer] = value instead\n",
      "\n",
      "See the caveats in the documentation: https://pandas.pydata.org/pandas-docs/stable/user_guide/indexing.html#returning-a-view-versus-a-copy\n",
      "  df2['total_fisheries_per_ton'] = df2['total_fisheries_per_ton'].fillna(round(df2['total_fisheries_per_ton']).mean()).astype(int)\n"
     ]
    }
   ],
   "source": [
    "mean_fisheries = df2['total_fisheries_per_ton'].mean()\n",
    "df2['total_fisheries_per_ton'] = df2['total_fisheries_per_ton'].fillna(round(df2['total_fisheries_per_ton']).mean()).astype(int)\n",
    "\n",
    "print(df2['total_fisheries_per_ton'].isnull().sum())"
   ]
  },
  {
   "cell_type": "code",
   "execution_count": 231,
   "id": "5e62f7f9",
   "metadata": {},
   "outputs": [
    {
     "name": "stdout",
     "output_type": "stream",
     "text": [
      "0\n"
     ]
    },
    {
     "name": "stderr",
     "output_type": "stream",
     "text": [
      "C:\\Users\\abdul\\AppData\\Local\\Temp\\ipykernel_2076\\2729377398.py:2: SettingWithCopyWarning: \n",
      "A value is trying to be set on a copy of a slice from a DataFrame.\n",
      "Try using .loc[row_indexer,col_indexer] = value instead\n",
      "\n",
      "See the caveats in the documentation: https://pandas.pydata.org/pandas-docs/stable/user_guide/indexing.html#returning-a-view-versus-a-copy\n",
      "  df2['total_military'] = df2['total_military'].fillna(round(df2['total_military']).mean()).astype(int)\n"
     ]
    }
   ],
   "source": [
    "mean_military = df2['total_military'].mean()\n",
    "df2['total_military'] = df2['total_military'].fillna(round(df2['total_military']).mean()).astype(int)\n",
    "\n",
    "print(df2['total_military'].isnull().sum())"
   ]
  },
  {
   "cell_type": "code",
   "execution_count": 232,
   "id": "a458dbef",
   "metadata": {},
   "outputs": [
    {
     "name": "stdout",
     "output_type": "stream",
     "text": [
      "0\n"
     ]
    },
    {
     "name": "stderr",
     "output_type": "stream",
     "text": [
      "C:\\Users\\abdul\\AppData\\Local\\Temp\\ipykernel_2076\\48883063.py:2: SettingWithCopyWarning: \n",
      "A value is trying to be set on a copy of a slice from a DataFrame.\n",
      "Try using .loc[row_indexer,col_indexer] = value instead\n",
      "\n",
      "See the caveats in the documentation: https://pandas.pydata.org/pandas-docs/stable/user_guide/indexing.html#returning-a-view-versus-a-copy\n",
      "  df2['population'] = df2['population'].fillna(round(df2['population']).mean()).astype(int)\n"
     ]
    }
   ],
   "source": [
    "mean_population = df2['population'].mean()\n",
    "df2['population'] = df2['population'].fillna(round(df2['population']).mean()).astype(int)\n",
    "\n",
    "print(df2['population'].isnull().sum())"
   ]
  },
  {
   "cell_type": "code",
   "execution_count": 233,
   "id": "c90d3cd3",
   "metadata": {},
   "outputs": [
    {
     "name": "stdout",
     "output_type": "stream",
     "text": [
      "0\n"
     ]
    },
    {
     "name": "stderr",
     "output_type": "stream",
     "text": [
      "C:\\Users\\abdul\\AppData\\Local\\Temp\\ipykernel_2076\\415388890.py:2: SettingWithCopyWarning: \n",
      "A value is trying to be set on a copy of a slice from a DataFrame.\n",
      "Try using .loc[row_indexer,col_indexer] = value instead\n",
      "\n",
      "See the caveats in the documentation: https://pandas.pydata.org/pandas-docs/stable/user_guide/indexing.html#returning-a-view-versus-a-copy\n",
      "  df2['unemployment_rate'] = df2['unemployment_rate'].fillna(round(df2['unemployment_rate']).mean()).astype(int)\n"
     ]
    }
   ],
   "source": [
    "mean_unemployment_rate = df2['unemployment_rate'].mean()\n",
    "df2['unemployment_rate'] = df2['unemployment_rate'].fillna(round(df2['unemployment_rate']).mean()).astype(int)\n",
    "\n",
    "print(df2['unemployment_rate'].isnull().sum())"
   ]
  },
  {
   "cell_type": "code",
   "execution_count": 234,
   "id": "7caffdda",
   "metadata": {},
   "outputs": [
    {
     "name": "stdout",
     "output_type": "stream",
     "text": [
      "0\n"
     ]
    },
    {
     "name": "stderr",
     "output_type": "stream",
     "text": [
      "C:\\Users\\abdul\\AppData\\Local\\Temp\\ipykernel_2076\\200336436.py:2: SettingWithCopyWarning: \n",
      "A value is trying to be set on a copy of a slice from a DataFrame.\n",
      "Try using .loc[row_indexer,col_indexer] = value instead\n",
      "\n",
      "See the caveats in the documentation: https://pandas.pydata.org/pandas-docs/stable/user_guide/indexing.html#returning-a-view-versus-a-copy\n",
      "  df2['unemployment_rate'] = df2['unemployment_rate'].fillna((df2['unemployment_rate']).mean()).astype(int)\n"
     ]
    }
   ],
   "source": [
    "mean_unemployment_rate = df2['unemployment_rate'].mean()\n",
    "df2['unemployment_rate'] = df2['unemployment_rate'].fillna((df2['unemployment_rate']).mean()).astype(int)\n",
    "\n",
    "print(df2['unemployment_rate'].isnull().sum())"
   ]
  },
  {
   "cell_type": "code",
   "execution_count": 235,
   "id": "5dd1834c",
   "metadata": {},
   "outputs": [
    {
     "name": "stdout",
     "output_type": "stream",
     "text": [
      "0\n"
     ]
    },
    {
     "name": "stderr",
     "output_type": "stream",
     "text": [
      "C:\\Users\\abdul\\AppData\\Local\\Temp\\ipykernel_2076\\2922503813.py:2: SettingWithCopyWarning: \n",
      "A value is trying to be set on a copy of a slice from a DataFrame.\n",
      "Try using .loc[row_indexer,col_indexer] = value instead\n",
      "\n",
      "See the caveats in the documentation: https://pandas.pydata.org/pandas-docs/stable/user_guide/indexing.html#returning-a-view-versus-a-copy\n",
      "  df2['totalgr'] = df2['totalgr'].fillna((df2['totalgr']).mean()).astype(int)\n"
     ]
    }
   ],
   "source": [
    "mean_gr = df2['totalgr'].mean()\n",
    "df2['totalgr'] = df2['totalgr'].fillna((df2['totalgr']).mean()).astype(int)\n",
    "\n",
    "print(df2['totalgr'].isnull().sum())"
   ]
  },
  {
   "cell_type": "code",
   "execution_count": 236,
   "id": "9c5edb3c",
   "metadata": {},
   "outputs": [
    {
     "name": "stdout",
     "output_type": "stream",
     "text": [
      "0\n"
     ]
    },
    {
     "name": "stderr",
     "output_type": "stream",
     "text": [
      "C:\\Users\\abdul\\AppData\\Local\\Temp\\ipykernel_2076\\1937832100.py:2: SettingWithCopyWarning: \n",
      "A value is trying to be set on a copy of a slice from a DataFrame.\n",
      "Try using .loc[row_indexer,col_indexer] = value instead\n",
      "\n",
      "See the caveats in the documentation: https://pandas.pydata.org/pandas-docs/stable/user_guide/indexing.html#returning-a-view-versus-a-copy\n",
      "  df2['industryofgdp'] = df2['industryofgdp'].fillna((df2['industryofgdp']).mean()).astype(int)\n"
     ]
    }
   ],
   "source": [
    "mean_gr = df2['industryofgdp'].mean()\n",
    "df2['industryofgdp'] = df2['industryofgdp'].fillna((df2['industryofgdp']).mean()).astype(int)\n",
    "\n",
    "print(df2['industryofgdp'].isnull().sum())"
   ]
  },
  {
   "cell_type": "code",
   "execution_count": 237,
   "id": "de82980e",
   "metadata": {},
   "outputs": [
    {
     "data": {
      "application/vnd.microsoft.datawrangler.viewer.v0+json": {
       "columns": [
        {
         "name": "index",
         "rawType": "object",
         "type": "string"
        },
        {
         "name": "0",
         "rawType": "int64",
         "type": "integer"
        }
       ],
       "ref": "6e90a1db-acf3-4c92-b289-88efc4cfa3a7",
       "rows": [
        [
         "country",
         "0"
        ],
        [
         "year",
         "0"
        ],
        [
         "corruption_index",
         "0"
        ],
        [
         "homicide_rate",
         "0"
        ],
        [
         "GDP",
         "0"
        ],
        [
         "total_fisheries_per_ton",
         "0"
        ],
        [
         "total_military",
         "0"
        ],
        [
         "population",
         "0"
        ],
        [
         "unemployment_rate",
         "0"
        ],
        [
         "totalgr",
         "0"
        ],
        [
         "industryofgdp",
         "0"
        ]
       ],
       "shape": {
        "columns": 1,
        "rows": 11
       }
      },
      "text/plain": [
       "country                    0\n",
       "year                       0\n",
       "corruption_index           0\n",
       "homicide_rate              0\n",
       "GDP                        0\n",
       "total_fisheries_per_ton    0\n",
       "total_military             0\n",
       "population                 0\n",
       "unemployment_rate          0\n",
       "totalgr                    0\n",
       "industryofgdp              0\n",
       "dtype: int64"
      ]
     },
     "execution_count": 237,
     "metadata": {},
     "output_type": "execute_result"
    }
   ],
   "source": [
    "df2.isna().sum()"
   ]
  },
  {
   "cell_type": "code",
   "execution_count": 238,
   "id": "bcd86e38",
   "metadata": {},
   "outputs": [
    {
     "data": {
      "text/plain": [
       "np.int64(0)"
      ]
     },
     "execution_count": 238,
     "metadata": {},
     "output_type": "execute_result"
    }
   ],
   "source": [
    "df2.duplicated().sum()"
   ]
  },
  {
   "cell_type": "code",
   "execution_count": null,
   "id": "b33a74a0",
   "metadata": {},
   "outputs": [],
   "source": []
  },
  {
   "cell_type": "code",
   "execution_count": 239,
   "id": "6d671420",
   "metadata": {},
   "outputs": [
    {
     "data": {
      "application/vnd.microsoft.datawrangler.viewer.v0+json": {
       "columns": [
        {
         "name": "index",
         "rawType": "int64",
         "type": "integer"
        },
        {
         "name": "date",
         "rawType": "object",
         "type": "string"
        },
        {
         "name": "time",
         "rawType": "object",
         "type": "unknown"
        },
        {
         "name": "longitude",
         "rawType": "float64",
         "type": "float"
        },
        {
         "name": "latitude",
         "rawType": "float64",
         "type": "float"
        },
        {
         "name": "attack_type",
         "rawType": "object",
         "type": "unknown"
        },
        {
         "name": "location_description",
         "rawType": "object",
         "type": "unknown"
        },
        {
         "name": "nearest_country",
         "rawType": "object",
         "type": "unknown"
        },
        {
         "name": "eez_country",
         "rawType": "object",
         "type": "unknown"
        },
        {
         "name": "shore_distance",
         "rawType": "float64",
         "type": "float"
        },
        {
         "name": "shore_longitude",
         "rawType": "float64",
         "type": "float"
        },
        {
         "name": "shore_latitude",
         "rawType": "float64",
         "type": "float"
        },
        {
         "name": "attack_description",
         "rawType": "object",
         "type": "unknown"
        },
        {
         "name": "vessel_name",
         "rawType": "object",
         "type": "unknown"
        },
        {
         "name": "vessel_type",
         "rawType": "object",
         "type": "unknown"
        },
        {
         "name": "vessel_status",
         "rawType": "object",
         "type": "unknown"
        },
        {
         "name": "data_source",
         "rawType": "object",
         "type": "string"
        }
       ],
       "ref": "eba867e2-1d7f-4396-a586-84ab508d174d",
       "rows": [
        [
         "0",
         "1993-01-02",
         null,
         "116.9667",
         "19.7",
         null,
         "Hong Kong - Luzon - Hainan",
         "CHN",
         "TWN",
         "357.5023725724185",
         "115.82595611500004",
         "22.746643521000067",
         null,
         "Mv Cosmic Leader",
         null,
         null,
         "mappingpiracy"
        ],
        [
         "1",
         "1993-01-04",
         null,
         "116.0",
         "22.35",
         null,
         "Hong Kong - Luzon - Hainan",
         "CHN",
         "CHN",
         "47.43157252093151",
         "115.82595611500004",
         "22.746643521000067",
         null,
         "Mv Tricolor Star III",
         null,
         null,
         "mappingpiracy"
        ],
        [
         "2",
         "1993-01-06",
         null,
         "115.25",
         "19.67",
         null,
         "Hong Kong - Luzon - Hainan",
         "CHN",
         "TWN",
         "280.81187093993",
         "114.30250084700003",
         "22.04486725500004",
         null,
         "Mv Arktis Star",
         null,
         null,
         "mappingpiracy"
        ],
        [
         "3",
         "1993-01-08",
         null,
         "124.5833",
         "29.9",
         null,
         "East China Sea",
         "CHN",
         "CHN",
         "209.92339619754955",
         "122.40967858200008",
         "29.91120026200008",
         null,
         "Ussurijsk",
         null,
         null,
         "mappingpiracy"
        ],
        [
         "4",
         "1993-01-12",
         null,
         "120.2667",
         "18.1333333",
         null,
         "Hong Kong - Luzon - Hainan",
         "PHL",
         "PHL",
         "22.027332077847085",
         "120.470062696",
         "18.091009833000044",
         null,
         "Mv Chennai Nermai",
         null,
         null,
         "mappingpiracy"
        ],
        [
         "5",
         "1993-01-13",
         null,
         "101.85",
         "9.7173",
         null,
         "Gulf of Thailand. South China Sea",
         "KHM",
         "KHM",
         "184.79664074717292",
         "103.29216556100005",
         "10.583156643000052",
         null,
         "Emelyan Yaroslavskiy",
         null,
         null,
         "mappingpiracy"
        ],
        [
         "6",
         "1993-01-25",
         null,
         "106.8667",
         "8.5666667",
         null,
         "South China Sea",
         "VNM",
         "VNM",
         "27.43734378248801",
         "106.65577233200004",
         "8.698879299000055",
         null,
         "Mv Indira Ghandhi",
         null,
         null,
         "mappingpiracy"
        ],
        [
         "7",
         "1993-01-26",
         null,
         "123.5",
         "29.0",
         null,
         "East China Sea",
         "CHN",
         "CHN",
         "141.5155642586203",
         "122.39519290500004",
         "29.833319403000075",
         null,
         "Mt Petrobulk Panther",
         null,
         null,
         "mappingpiracy"
        ],
        [
         "8",
         "1993-01-26",
         null,
         "13.25",
         "-8.8",
         null,
         "Luanda, Angola",
         "AGO",
         "AGO",
         "0.509215669071792",
         "13.245371941000087",
         "-8.80006275799991",
         null,
         "Mv Bodrog",
         null,
         "Anchored",
         "mappingpiracy"
        ],
        [
         "9",
         "1993-01-26",
         null,
         "119.4",
         "4.4333333",
         null,
         "South China Sea",
         "PHL",
         "PHL",
         "25.378587646219167",
         "119.45655358200008",
         "4.65570709800005",
         null,
         "Mv Southern King",
         null,
         null,
         "mappingpiracy"
        ],
        [
         "10",
         "1993-01-27",
         null,
         "13.25",
         "-8.8",
         null,
         "Port of Luanda, Angola",
         "AGO",
         "AGO",
         "0.509215669071792",
         "13.245371941000087",
         "-8.80006275799991",
         null,
         null,
         null,
         null,
         "mappingpiracy"
        ],
        [
         "11",
         "1993-02-04",
         null,
         "123.1667",
         "25.75",
         null,
         "East China Sea",
         null,
         null,
         "34.60225312662303",
         "123.51148522200016",
         "25.75808340100008",
         null,
         "Sukhinichi",
         null,
         null,
         "mappingpiracy"
        ],
        [
         "12",
         "1993-02-05",
         null,
         "7.2267",
         "5.0016667",
         null,
         "Bonny Anchorage, Nigeria",
         "NGA",
         "NGA",
         "31.946025339101165",
         "7.071787957000083",
         "4.75812409100007",
         null,
         "Mv Norgas Navigator",
         null,
         "Anchored",
         "mappingpiracy"
        ],
        [
         "13",
         "1993-02-06",
         null,
         "118.1667",
         "16.5833333",
         null,
         "Hong Kong - Luzon - Hainan",
         "PHL",
         "PHL",
         "174.73669588480044",
         "119.75782311300009",
         "16.21670156500005",
         null,
         "Mv Hulpha Kluang",
         null,
         null,
         "mappingpiracy"
        ],
        [
         "14",
         "1993-02-15",
         null,
         "121.2995",
         "38.6974",
         null,
         "7.4 miles SE of Waglan. South China Sea",
         "CHN",
         "CHN",
         "9.412733695661812",
         "121.19849694100004",
         "38.72785065300008",
         null,
         "Mv Marine Peace",
         null,
         null,
         "mappingpiracy"
        ],
        [
         "15",
         "1993-02-16",
         null,
         "118.7167",
         "19.3166667",
         null,
         "Hong Kong - Luzon - Hainan",
         "PHL",
         "PHL",
         "214.9032464638089",
         "120.56080162900004",
         "18.486761786000045",
         null,
         "Mv Lion",
         null,
         null,
         "mappingpiracy"
        ],
        [
         "16",
         "1993-02-16",
         null,
         "39.3533",
         "-6.775",
         null,
         "Dar-Es-Salam Anchor, Tanzania",
         "TZA",
         "TZA",
         "5.977859498251536",
         "39.32650800900007",
         "-6.82195403399993",
         null,
         "Mv Socol 5",
         null,
         null,
         "mappingpiracy"
        ],
        [
         "17",
         "1993-02-16",
         null,
         "111.0333",
         "17.3333333",
         null,
         "Hong Kong - Luzon - Hainan",
         "CHN",
         "CHN",
         "107.32752278973696",
         "111.60287519600008",
         "16.533351955000057",
         null,
         "Mv Mary Nour",
         null,
         null,
         "mappingpiracy"
        ],
        [
         "18",
         "1993-02-16",
         null,
         "111.2",
         "15.7833333",
         null,
         null,
         "VNM",
         "VNM",
         "0.4759014939646424",
         "111.19629967500003",
         "15.785711981000077",
         null,
         "Mt Samuel L. Cobb",
         null,
         null,
         "mappingpiracy"
        ],
        [
         "19",
         "1993-02-16",
         null,
         "39.3533",
         "-6.775",
         null,
         "Dar-Es-Salam Roads, Tanzania",
         "TZA",
         "TZA",
         "5.977859498251536",
         "39.32650800900007",
         "-6.82195403399993",
         null,
         null,
         null,
         null,
         "mappingpiracy"
        ],
        [
         "20",
         "1993-02-18",
         null,
         "115.25",
         "19.67",
         null,
         "Western Luzon. Hong Kong - Luzon - Hainan",
         "CHN",
         "TWN",
         "280.81187093993",
         "114.30250084700003",
         "22.04486725500004",
         null,
         "Mv Aleksandr Tsyurupa",
         null,
         null,
         "mappingpiracy"
        ],
        [
         "21",
         "1993-02-25",
         null,
         "104.4",
         "8.5166667",
         null,
         "South China Sea",
         "VNM",
         "VNM",
         "36.7996075652598",
         "104.72291100400008",
         "8.602687893000052",
         null,
         "Mv Great Amity",
         null,
         null,
         "mappingpiracy"
        ],
        [
         "22",
         "1993-02-25",
         null,
         "124.4333",
         "36.2",
         null,
         "East China Sea",
         "KOR",
         "KOR",
         "162.26266109885887",
         "126.12891686300009",
         "36.71190013200004",
         null,
         "Mv Komsomolets",
         null,
         null,
         "mappingpiracy"
        ],
        [
         "23",
         "1993-02-28",
         null,
         "67.1457",
         "24.7847",
         null,
         "Base Creek, Anchor. Arabian Sea",
         "PAK",
         "PAK",
         "1.2913772630500364",
         "67.15601647200003",
         "24.79157135600008",
         null,
         "Mv Alam Sempurna",
         null,
         "Anchored",
         "mappingpiracy"
        ],
        [
         "24",
         "1993-03-01",
         null,
         "50.5833",
         "8.9333333",
         null,
         "Somalia",
         "SOM",
         "SOM",
         "9.939720779769596",
         "50.494883660000085",
         "8.951971747000073",
         null,
         "Somalian Glory",
         null,
         null,
         "mappingpiracy"
        ],
        [
         "25",
         "1993-03-03",
         null,
         "120.4667",
         "25.4333333",
         null,
         "Taiwan Sea",
         "CHN",
         "CHN",
         "61.08917381500073",
         "119.87452233200008",
         "25.556789455000057",
         null,
         "Mv Tulsidas",
         null,
         null,
         "mappingpiracy"
        ],
        [
         "26",
         "1993-03-05",
         null,
         "120.0667",
         "17.6",
         null,
         "Hong Kong - Luzon - Hainan",
         "PHL",
         "PHL",
         "28.76509066756926",
         "120.33383222700002",
         "17.556382554000038",
         null,
         "Mv Zirje",
         null,
         null,
         "mappingpiracy"
        ],
        [
         "27",
         "1993-03-06",
         null,
         "98.7167",
         "3.8",
         null,
         "Straits of Malacca-Indonesia",
         "IDN",
         "IDN",
         "0.793892443815096",
         "98.71062259200004",
         "3.80377838700008",
         null,
         "Mv Kavo Sidero",
         null,
         null,
         "mappingpiracy"
        ],
        [
         "28",
         "1993-03-19",
         null,
         "122.7667",
         "37.2833333",
         null,
         "East China Sea",
         "CHN",
         "CHN",
         "12.774793237699964",
         "122.67896569100004",
         "37.374660549000055",
         null,
         "Mv Sibirskiy 2114",
         null,
         null,
         "mappingpiracy"
        ],
        [
         "29",
         "1993-03-21",
         null,
         "115.25",
         "19.67",
         null,
         "SW of Hong Kong. Hong Kong - Luzon - Hainan",
         "CHN",
         "TWN",
         "280.81187093993",
         "114.30250084700003",
         "22.04486725500004",
         null,
         "M69204Y",
         null,
         null,
         "mappingpiracy"
        ],
        [
         "30",
         "1993-03-21",
         null,
         "109.5",
         "15.0",
         null,
         "South China Sea",
         "VNM",
         "VNM",
         "54.138364991579714",
         "109.08082116000004",
         "14.72947825700004",
         null,
         "Mt Suci",
         null,
         null,
         "mappingpiracy"
        ],
        [
         "31",
         "1993-03-23",
         null,
         "105.85",
         "3.8166667",
         null,
         "South China Sea",
         "IDN",
         "IDN",
         "68.73987072071623",
         "106.27084394600008",
         "3.3609886740000547",
         null,
         "Mv Kurama",
         null,
         null,
         "mappingpiracy"
        ],
        [
         "32",
         "1993-03-23",
         null,
         "124.3333",
         "26.75",
         null,
         "East China Sea",
         null,
         null,
         "97.18674872683712",
         "124.5668237640001",
         "25.89842357000009",
         null,
         "Mv Vsip Pyatnitskiy",
         null,
         null,
         "mappingpiracy"
        ],
        [
         "33",
         "1993-03-24",
         null,
         "-43.1667",
         "-22.8933333",
         null,
         "Anchorage, Rio de Janeiro, Brazil",
         "BRA",
         "BRA",
         "0.53913985225232",
         "-43.16209876199992",
         "-22.895684502999927",
         null,
         "Mv Santos Express",
         null,
         "Anchored",
         "mappingpiracy"
        ],
        [
         "34",
         "1993-04-02",
         null,
         "121.7766",
         "38.7931",
         null,
         "30 miles East of Waglan. Hong Kong - Luzon - Hainan",
         "CHN",
         "CHN",
         "10.427624572622124",
         "121.69629967500008",
         "38.862941799000055",
         null,
         "Mv Bunga Terasek",
         null,
         null,
         "mappingpiracy"
        ],
        [
         "35",
         "1993-04-04",
         null,
         "123.8",
         "22.7333333",
         null,
         "Hong Kong - Luzon - Hainan",
         "JPN",
         "JPN",
         "168.82713814967636",
         "123.85124759200004",
         "24.25698476800005",
         null,
         "Mv Pernas Proton",
         null,
         null,
         "mappingpiracy"
        ],
        [
         "36",
         "1993-04-04",
         null,
         "115.6667",
         "22.3333333",
         null,
         "Hong Kong - Luzon - Hainan",
         "CHN",
         "CHN",
         "38.272811726867104",
         "115.57521894800004",
         "22.66833597200008",
         null,
         "Mv Birlad",
         null,
         null,
         "mappingpiracy"
        ],
        [
         "37",
         "1993-04-08",
         null,
         "111.4167",
         "12.5166667",
         null,
         "South China Sea",
         "VNM",
         "VNM",
         "211.8323817007931",
         "109.47242272200003",
         "12.656398830000056",
         null,
         "Mv NL Trader",
         null,
         null,
         "mappingpiracy"
        ],
        [
         "38",
         "1993-04-13",
         null,
         "115.25",
         "19.67",
         null,
         "Hong Kong Harbour. Hong Kong - Luzon - Hainan",
         "CHN",
         "TWN",
         "280.81187093993",
         "114.30250084700003",
         "22.04486725500004",
         null,
         "MV Baltimar Neptune",
         null,
         null,
         "mappingpiracy"
        ],
        [
         "39",
         "1993-04-17",
         null,
         "115.6167",
         "17.6333333",
         null,
         "Hong Kong - Luzon - Hainan",
         "CHN",
         "TWN",
         "324.79292481988983",
         "112.73682701900007",
         "16.660223700000074",
         null,
         "MV Sun Kung No. 8",
         null,
         null,
         "mappingpiracy"
        ],
        [
         "40",
         "1993-04-22",
         null,
         "117.35",
         "20.3",
         null,
         "Hong Kong - Luzon - Hainan",
         "CHN",
         "TWN",
         "305.3620369727799",
         "116.494687913",
         "22.93935241300005",
         null,
         "MV OOCL Beacon",
         null,
         null,
         "mappingpiracy"
        ],
        [
         "41",
         "1993-04-22",
         null,
         "98.6767",
         "3.7766667",
         null,
         "Belawan Port. Straits of Malacca-Indonesia",
         "IDN",
         "IDN",
         "4.815190418867126",
         "98.71062259200004",
         "3.80377838700008",
         null,
         "Mv Magic Lady",
         null,
         null,
         "mappingpiracy"
        ],
        [
         "42",
         "1993-04-22",
         null,
         "116.0833",
         "19.4",
         null,
         "Hong Kong - Luzon - Hainan",
         "CHN",
         "TWN",
         "346.61626883761284",
         "114.30250084700003",
         "22.04486725500004",
         null,
         "MV Salud Ace",
         null,
         null,
         "mappingpiracy"
        ],
        [
         "43",
         "1993-04-23",
         null,
         "116.7833",
         "21.1666667",
         null,
         "Hong Kong - Luzon - Hainan",
         "CHN",
         "TWN",
         "196.9697334366181",
         "116.09568990500009",
         "22.82590045700005",
         null,
         "Bukhta",
         null,
         null,
         "mappingpiracy"
        ],
        [
         "44",
         "1993-04-23",
         null,
         "117.5",
         "20.8",
         null,
         "Hong Kong - Luzon - Hainan",
         "CHN",
         "TWN",
         "258.66988454100385",
         "116.494687913",
         "22.93935241300005",
         null,
         "Mv Old Sea Beacon",
         null,
         null,
         "mappingpiracy"
        ],
        [
         "45",
         "1993-04-29",
         null,
         "126.0333",
         "28.85",
         null,
         "East China Sea",
         "JPN",
         "JPN",
         "241.21750851419765",
         "128.229828321",
         "27.86896393400008",
         null,
         "MT President",
         null,
         null,
         "mappingpiracy"
        ],
        [
         "46",
         "1993-04-29",
         null,
         "114.1833",
         "17.926",
         null,
         "300 miles South of Hong Kong. Hong Kong - Luzon - Hainan",
         "CHN",
         "CHN",
         "207.85426091895985",
         "112.73340905000008",
         "16.666083075000074",
         null,
         "Mv Zhongshan",
         null,
         null,
         "mappingpiracy"
        ],
        [
         "47",
         "1993-05-02",
         null,
         "124.95",
         "35.2333333",
         null,
         "East China Sea",
         "KOR",
         "KOR",
         "73.42519402861082",
         "125.421234571",
         "34.69708893400008",
         null,
         "Mv Konstantin",
         null,
         null,
         "mappingpiracy"
        ],
        [
         "48",
         "1993-05-03",
         null,
         "120.05",
         "17.3",
         null,
         "South China Sea",
         "PHL",
         "PHL",
         "38.16391116043455",
         "120.40821373800009",
         "17.322699286000045",
         null,
         null,
         null,
         null,
         "mappingpiracy"
        ],
        [
         "49",
         "1993-05-04",
         null,
         "115.984",
         "19.3123",
         null,
         "235 miles SE of Hong Kong. Hong Kong - Luzon - Hainan",
         "CHN",
         "TWN",
         "349.5862663424488",
         "114.30250084700003",
         "22.04486725500004",
         null,
         "Mv Tricolor Star III",
         null,
         null,
         "mappingpiracy"
        ]
       ],
       "shape": {
        "columns": 16,
        "rows": 7511
       }
      },
      "text/html": [
       "<div>\n",
       "<style scoped>\n",
       "    .dataframe tbody tr th:only-of-type {\n",
       "        vertical-align: middle;\n",
       "    }\n",
       "\n",
       "    .dataframe tbody tr th {\n",
       "        vertical-align: top;\n",
       "    }\n",
       "\n",
       "    .dataframe thead th {\n",
       "        text-align: right;\n",
       "    }\n",
       "</style>\n",
       "<table border=\"1\" class=\"dataframe\">\n",
       "  <thead>\n",
       "    <tr style=\"text-align: right;\">\n",
       "      <th></th>\n",
       "      <th>date</th>\n",
       "      <th>time</th>\n",
       "      <th>longitude</th>\n",
       "      <th>latitude</th>\n",
       "      <th>attack_type</th>\n",
       "      <th>location_description</th>\n",
       "      <th>nearest_country</th>\n",
       "      <th>eez_country</th>\n",
       "      <th>shore_distance</th>\n",
       "      <th>shore_longitude</th>\n",
       "      <th>shore_latitude</th>\n",
       "      <th>attack_description</th>\n",
       "      <th>vessel_name</th>\n",
       "      <th>vessel_type</th>\n",
       "      <th>vessel_status</th>\n",
       "      <th>data_source</th>\n",
       "    </tr>\n",
       "  </thead>\n",
       "  <tbody>\n",
       "    <tr>\n",
       "      <th>0</th>\n",
       "      <td>1993-01-02</td>\n",
       "      <td>NaN</td>\n",
       "      <td>116.966700</td>\n",
       "      <td>19.700000</td>\n",
       "      <td>NaN</td>\n",
       "      <td>Hong Kong - Luzon - Hainan</td>\n",
       "      <td>CHN</td>\n",
       "      <td>TWN</td>\n",
       "      <td>357.502373</td>\n",
       "      <td>115.825956</td>\n",
       "      <td>22.746644</td>\n",
       "      <td>NaN</td>\n",
       "      <td>Mv Cosmic Leader</td>\n",
       "      <td>NaN</td>\n",
       "      <td>NaN</td>\n",
       "      <td>mappingpiracy</td>\n",
       "    </tr>\n",
       "    <tr>\n",
       "      <th>1</th>\n",
       "      <td>1993-01-04</td>\n",
       "      <td>NaN</td>\n",
       "      <td>116.000000</td>\n",
       "      <td>22.350000</td>\n",
       "      <td>NaN</td>\n",
       "      <td>Hong Kong - Luzon - Hainan</td>\n",
       "      <td>CHN</td>\n",
       "      <td>CHN</td>\n",
       "      <td>47.431573</td>\n",
       "      <td>115.825956</td>\n",
       "      <td>22.746644</td>\n",
       "      <td>NaN</td>\n",
       "      <td>Mv Tricolor Star III</td>\n",
       "      <td>NaN</td>\n",
       "      <td>NaN</td>\n",
       "      <td>mappingpiracy</td>\n",
       "    </tr>\n",
       "    <tr>\n",
       "      <th>2</th>\n",
       "      <td>1993-01-06</td>\n",
       "      <td>NaN</td>\n",
       "      <td>115.250000</td>\n",
       "      <td>19.670000</td>\n",
       "      <td>NaN</td>\n",
       "      <td>Hong Kong - Luzon - Hainan</td>\n",
       "      <td>CHN</td>\n",
       "      <td>TWN</td>\n",
       "      <td>280.811871</td>\n",
       "      <td>114.302501</td>\n",
       "      <td>22.044867</td>\n",
       "      <td>NaN</td>\n",
       "      <td>Mv Arktis Star</td>\n",
       "      <td>NaN</td>\n",
       "      <td>NaN</td>\n",
       "      <td>mappingpiracy</td>\n",
       "    </tr>\n",
       "    <tr>\n",
       "      <th>3</th>\n",
       "      <td>1993-01-08</td>\n",
       "      <td>NaN</td>\n",
       "      <td>124.583300</td>\n",
       "      <td>29.900000</td>\n",
       "      <td>NaN</td>\n",
       "      <td>East China Sea</td>\n",
       "      <td>CHN</td>\n",
       "      <td>CHN</td>\n",
       "      <td>209.923396</td>\n",
       "      <td>122.409679</td>\n",
       "      <td>29.911200</td>\n",
       "      <td>NaN</td>\n",
       "      <td>Ussurijsk</td>\n",
       "      <td>NaN</td>\n",
       "      <td>NaN</td>\n",
       "      <td>mappingpiracy</td>\n",
       "    </tr>\n",
       "    <tr>\n",
       "      <th>4</th>\n",
       "      <td>1993-01-12</td>\n",
       "      <td>NaN</td>\n",
       "      <td>120.266700</td>\n",
       "      <td>18.133333</td>\n",
       "      <td>NaN</td>\n",
       "      <td>Hong Kong - Luzon - Hainan</td>\n",
       "      <td>PHL</td>\n",
       "      <td>PHL</td>\n",
       "      <td>22.027332</td>\n",
       "      <td>120.470063</td>\n",
       "      <td>18.091010</td>\n",
       "      <td>NaN</td>\n",
       "      <td>Mv Chennai Nermai</td>\n",
       "      <td>NaN</td>\n",
       "      <td>NaN</td>\n",
       "      <td>mappingpiracy</td>\n",
       "    </tr>\n",
       "    <tr>\n",
       "      <th>...</th>\n",
       "      <td>...</td>\n",
       "      <td>...</td>\n",
       "      <td>...</td>\n",
       "      <td>...</td>\n",
       "      <td>...</td>\n",
       "      <td>...</td>\n",
       "      <td>...</td>\n",
       "      <td>...</td>\n",
       "      <td>...</td>\n",
       "      <td>...</td>\n",
       "      <td>...</td>\n",
       "      <td>...</td>\n",
       "      <td>...</td>\n",
       "      <td>...</td>\n",
       "      <td>...</td>\n",
       "      <td>...</td>\n",
       "    </tr>\n",
       "    <tr>\n",
       "      <th>7506</th>\n",
       "      <td>2020-12-15</td>\n",
       "      <td>02:15 UTC</td>\n",
       "      <td>4.751944</td>\n",
       "      <td>2.000833</td>\n",
       "      <td>Boarded</td>\n",
       "      <td>Around 165nm SSW of Brass</td>\n",
       "      <td>STP</td>\n",
       "      <td>STP</td>\n",
       "      <td>269.439937</td>\n",
       "      <td>6.497813</td>\n",
       "      <td>0.312690</td>\n",
       "      <td>15.12.2020: 0215 UTC: Posn: 02:00.3N - 004:45....</td>\n",
       "      <td>NaN</td>\n",
       "      <td>Product Tanker</td>\n",
       "      <td>NaN</td>\n",
       "      <td>imb</td>\n",
       "    </tr>\n",
       "    <tr>\n",
       "      <th>7507</th>\n",
       "      <td>2020-12-19</td>\n",
       "      <td>13:36 UTC</td>\n",
       "      <td>6.169167</td>\n",
       "      <td>2.602222</td>\n",
       "      <td>Boarded</td>\n",
       "      <td>Around 100nm South of Brass</td>\n",
       "      <td>STP</td>\n",
       "      <td>STP</td>\n",
       "      <td>168.407993</td>\n",
       "      <td>7.371837</td>\n",
       "      <td>1.677191</td>\n",
       "      <td>19.12.2020: 1336 UTC: Posn: 02:36.8N – 006:10....</td>\n",
       "      <td>NaN</td>\n",
       "      <td>Container</td>\n",
       "      <td>NaN</td>\n",
       "      <td>imb</td>\n",
       "    </tr>\n",
       "    <tr>\n",
       "      <th>7508</th>\n",
       "      <td>2020-12-21</td>\n",
       "      <td>04:09 UTC</td>\n",
       "      <td>5.616667</td>\n",
       "      <td>2.616667</td>\n",
       "      <td>Boarded</td>\n",
       "      <td>Around 107nm SSW of Brass, Nigeria</td>\n",
       "      <td>NGA</td>\n",
       "      <td>NGA</td>\n",
       "      <td>191.182791</td>\n",
       "      <td>6.112804</td>\n",
       "      <td>4.272162</td>\n",
       "      <td>21.12.2020: 0409 UTC: Posn : 02:37N – 005:37E,...</td>\n",
       "      <td>NaN</td>\n",
       "      <td>Container</td>\n",
       "      <td>NaN</td>\n",
       "      <td>imb</td>\n",
       "    </tr>\n",
       "    <tr>\n",
       "      <th>7509</th>\n",
       "      <td>2020-12-26</td>\n",
       "      <td>01:30 UTC</td>\n",
       "      <td>-1.683333</td>\n",
       "      <td>4.883333</td>\n",
       "      <td>Boarded</td>\n",
       "      <td>Takoradi Anchorage</td>\n",
       "      <td>GHA</td>\n",
       "      <td>GHA</td>\n",
       "      <td>6.288180</td>\n",
       "      <td>-1.718821</td>\n",
       "      <td>4.927680</td>\n",
       "      <td>26.12.2020: 0130 UTC: Posn: 04:53.51N – 001:41...</td>\n",
       "      <td>NaN</td>\n",
       "      <td>General Cargo</td>\n",
       "      <td>Anchored</td>\n",
       "      <td>imb</td>\n",
       "    </tr>\n",
       "    <tr>\n",
       "      <th>7510</th>\n",
       "      <td>2020-12-29</td>\n",
       "      <td>16:40 UTC</td>\n",
       "      <td>6.400000</td>\n",
       "      <td>2.733333</td>\n",
       "      <td>Attempted</td>\n",
       "      <td>Around 94nm South of Brass</td>\n",
       "      <td>STP</td>\n",
       "      <td>STP</td>\n",
       "      <td>158.939346</td>\n",
       "      <td>7.385265</td>\n",
       "      <td>1.692328</td>\n",
       "      <td>29.12.2020: 1640 UTC: Posn: 02:44N – 006:24E, ...</td>\n",
       "      <td>NaN</td>\n",
       "      <td>Tanker</td>\n",
       "      <td>NaN</td>\n",
       "      <td>imb</td>\n",
       "    </tr>\n",
       "  </tbody>\n",
       "</table>\n",
       "<p>7511 rows × 16 columns</p>\n",
       "</div>"
      ],
      "text/plain": [
       "            date       time   longitude   latitude attack_type  \\\n",
       "0     1993-01-02        NaN  116.966700  19.700000         NaN   \n",
       "1     1993-01-04        NaN  116.000000  22.350000         NaN   \n",
       "2     1993-01-06        NaN  115.250000  19.670000         NaN   \n",
       "3     1993-01-08        NaN  124.583300  29.900000         NaN   \n",
       "4     1993-01-12        NaN  120.266700  18.133333         NaN   \n",
       "...          ...        ...         ...        ...         ...   \n",
       "7506  2020-12-15  02:15 UTC    4.751944   2.000833     Boarded   \n",
       "7507  2020-12-19  13:36 UTC    6.169167   2.602222     Boarded   \n",
       "7508  2020-12-21  04:09 UTC    5.616667   2.616667     Boarded   \n",
       "7509  2020-12-26  01:30 UTC   -1.683333   4.883333     Boarded   \n",
       "7510  2020-12-29  16:40 UTC    6.400000   2.733333   Attempted   \n",
       "\n",
       "                    location_description nearest_country eez_country  \\\n",
       "0             Hong Kong - Luzon - Hainan             CHN         TWN   \n",
       "1             Hong Kong - Luzon - Hainan             CHN         CHN   \n",
       "2             Hong Kong - Luzon - Hainan             CHN         TWN   \n",
       "3                         East China Sea             CHN         CHN   \n",
       "4             Hong Kong - Luzon - Hainan             PHL         PHL   \n",
       "...                                  ...             ...         ...   \n",
       "7506           Around 165nm SSW of Brass             STP         STP   \n",
       "7507         Around 100nm South of Brass             STP         STP   \n",
       "7508  Around 107nm SSW of Brass, Nigeria             NGA         NGA   \n",
       "7509                  Takoradi Anchorage             GHA         GHA   \n",
       "7510          Around 94nm South of Brass             STP         STP   \n",
       "\n",
       "      shore_distance  shore_longitude  shore_latitude  \\\n",
       "0         357.502373       115.825956       22.746644   \n",
       "1          47.431573       115.825956       22.746644   \n",
       "2         280.811871       114.302501       22.044867   \n",
       "3         209.923396       122.409679       29.911200   \n",
       "4          22.027332       120.470063       18.091010   \n",
       "...              ...              ...             ...   \n",
       "7506      269.439937         6.497813        0.312690   \n",
       "7507      168.407993         7.371837        1.677191   \n",
       "7508      191.182791         6.112804        4.272162   \n",
       "7509        6.288180        -1.718821        4.927680   \n",
       "7510      158.939346         7.385265        1.692328   \n",
       "\n",
       "                                     attack_description           vessel_name  \\\n",
       "0                                                   NaN      Mv Cosmic Leader   \n",
       "1                                                   NaN  Mv Tricolor Star III   \n",
       "2                                                   NaN        Mv Arktis Star   \n",
       "3                                                   NaN             Ussurijsk   \n",
       "4                                                   NaN     Mv Chennai Nermai   \n",
       "...                                                 ...                   ...   \n",
       "7506  15.12.2020: 0215 UTC: Posn: 02:00.3N - 004:45....                   NaN   \n",
       "7507  19.12.2020: 1336 UTC: Posn: 02:36.8N – 006:10....                   NaN   \n",
       "7508  21.12.2020: 0409 UTC: Posn : 02:37N – 005:37E,...                   NaN   \n",
       "7509  26.12.2020: 0130 UTC: Posn: 04:53.51N – 001:41...                   NaN   \n",
       "7510  29.12.2020: 1640 UTC: Posn: 02:44N – 006:24E, ...                   NaN   \n",
       "\n",
       "         vessel_type vessel_status    data_source  \n",
       "0                NaN           NaN  mappingpiracy  \n",
       "1                NaN           NaN  mappingpiracy  \n",
       "2                NaN           NaN  mappingpiracy  \n",
       "3                NaN           NaN  mappingpiracy  \n",
       "4                NaN           NaN  mappingpiracy  \n",
       "...              ...           ...            ...  \n",
       "7506  Product Tanker           NaN            imb  \n",
       "7507       Container           NaN            imb  \n",
       "7508       Container           NaN            imb  \n",
       "7509   General Cargo      Anchored            imb  \n",
       "7510          Tanker           NaN            imb  \n",
       "\n",
       "[7511 rows x 16 columns]"
      ]
     },
     "execution_count": 239,
     "metadata": {},
     "output_type": "execute_result"
    }
   ],
   "source": [
    "df3 = pd.read_csv(r\"D:\\portfolio\\ARcraft\\final project\\project 3\\data\\raw\\pirate_attacks.csv\")\n",
    "df3"
   ]
  },
  {
   "cell_type": "code",
   "execution_count": 240,
   "id": "763fed86",
   "metadata": {},
   "outputs": [
    {
     "name": "stdout",
     "output_type": "stream",
     "text": [
      "<class 'pandas.core.frame.DataFrame'>\n",
      "RangeIndex: 7511 entries, 0 to 7510\n",
      "Data columns (total 16 columns):\n",
      " #   Column                Non-Null Count  Dtype  \n",
      "---  ------                --------------  -----  \n",
      " 0   date                  7511 non-null   object \n",
      " 1   time                  1149 non-null   object \n",
      " 2   longitude             7511 non-null   float64\n",
      " 3   latitude              7511 non-null   float64\n",
      " 4   attack_type           7391 non-null   object \n",
      " 5   location_description  7503 non-null   object \n",
      " 6   nearest_country       7492 non-null   object \n",
      " 7   eez_country           7216 non-null   object \n",
      " 8   shore_distance        7511 non-null   float64\n",
      " 9   shore_longitude       7511 non-null   float64\n",
      " 10  shore_latitude        7511 non-null   float64\n",
      " 11  attack_description    1173 non-null   object \n",
      " 12  vessel_name           6079 non-null   object \n",
      " 13  vessel_type           1173 non-null   object \n",
      " 14  vessel_status         6599 non-null   object \n",
      " 15  data_source           7511 non-null   object \n",
      "dtypes: float64(5), object(11)\n",
      "memory usage: 939.0+ KB\n"
     ]
    }
   ],
   "source": [
    "df3.info()"
   ]
  },
  {
   "cell_type": "code",
   "execution_count": 241,
   "id": "899af9e4",
   "metadata": {},
   "outputs": [
    {
     "data": {
      "application/vnd.microsoft.datawrangler.viewer.v0+json": {
       "columns": [
        {
         "name": "index",
         "rawType": "object",
         "type": "string"
        },
        {
         "name": "longitude",
         "rawType": "float64",
         "type": "float"
        },
        {
         "name": "latitude",
         "rawType": "float64",
         "type": "float"
        },
        {
         "name": "shore_distance",
         "rawType": "float64",
         "type": "float"
        },
        {
         "name": "shore_longitude",
         "rawType": "float64",
         "type": "float"
        },
        {
         "name": "shore_latitude",
         "rawType": "float64",
         "type": "float"
        }
       ],
       "ref": "3bea5ffe-1cb8-4da7-9759-46d5653b9b49",
       "rows": [
        [
         "count",
         "7511.0",
         "7511.0",
         "7511.0",
         "7511.0",
         "7511.0"
        ],
        [
         "mean",
         "59.3342467271144",
         "6.505837142896432",
         "53.71132717790491",
         "59.280797619779044",
         "6.599277402787139"
        ],
        [
         "std",
         "58.53368912152526",
         "10.532128668192989",
         "126.59263572586008",
         "58.54985763959018",
         "10.609951097216957"
        ],
        [
         "min",
         "-163.9928",
         "-34.9033333",
         "0.0391893210528386",
         "-169.51276607999992",
         "-34.898695570999905"
        ],
        [
         "25%",
         "10.13375000000002",
         "0.8416666500000001",
         "2.922736055301347",
         "9.846120638500082",
         "0.8937442080000437"
        ],
        [
         "50%",
         "83.41666666666674",
         "5.0333333",
         "10.108765195417078",
         "83.34131920700008",
         "5.242254950000074"
        ],
        [
         "75%",
         "105.173594444445",
         "13.15",
         "36.21987996464017",
         "105.24634850400004",
         "13.585598049000057"
        ],
        [
         "max",
         "160.2646",
         "56.5878",
         "1024.029180165913",
         "160.25757897200003",
         "56.68471914300005"
        ]
       ],
       "shape": {
        "columns": 5,
        "rows": 8
       }
      },
      "text/html": [
       "<div>\n",
       "<style scoped>\n",
       "    .dataframe tbody tr th:only-of-type {\n",
       "        vertical-align: middle;\n",
       "    }\n",
       "\n",
       "    .dataframe tbody tr th {\n",
       "        vertical-align: top;\n",
       "    }\n",
       "\n",
       "    .dataframe thead th {\n",
       "        text-align: right;\n",
       "    }\n",
       "</style>\n",
       "<table border=\"1\" class=\"dataframe\">\n",
       "  <thead>\n",
       "    <tr style=\"text-align: right;\">\n",
       "      <th></th>\n",
       "      <th>longitude</th>\n",
       "      <th>latitude</th>\n",
       "      <th>shore_distance</th>\n",
       "      <th>shore_longitude</th>\n",
       "      <th>shore_latitude</th>\n",
       "    </tr>\n",
       "  </thead>\n",
       "  <tbody>\n",
       "    <tr>\n",
       "      <th>count</th>\n",
       "      <td>7511.000000</td>\n",
       "      <td>7511.000000</td>\n",
       "      <td>7511.000000</td>\n",
       "      <td>7511.000000</td>\n",
       "      <td>7511.000000</td>\n",
       "    </tr>\n",
       "    <tr>\n",
       "      <th>mean</th>\n",
       "      <td>59.334247</td>\n",
       "      <td>6.505837</td>\n",
       "      <td>53.711327</td>\n",
       "      <td>59.280798</td>\n",
       "      <td>6.599277</td>\n",
       "    </tr>\n",
       "    <tr>\n",
       "      <th>std</th>\n",
       "      <td>58.533689</td>\n",
       "      <td>10.532129</td>\n",
       "      <td>126.592636</td>\n",
       "      <td>58.549858</td>\n",
       "      <td>10.609951</td>\n",
       "    </tr>\n",
       "    <tr>\n",
       "      <th>min</th>\n",
       "      <td>-163.992800</td>\n",
       "      <td>-34.903333</td>\n",
       "      <td>0.039189</td>\n",
       "      <td>-169.512766</td>\n",
       "      <td>-34.898696</td>\n",
       "    </tr>\n",
       "    <tr>\n",
       "      <th>25%</th>\n",
       "      <td>10.133750</td>\n",
       "      <td>0.841667</td>\n",
       "      <td>2.922736</td>\n",
       "      <td>9.846121</td>\n",
       "      <td>0.893744</td>\n",
       "    </tr>\n",
       "    <tr>\n",
       "      <th>50%</th>\n",
       "      <td>83.416667</td>\n",
       "      <td>5.033333</td>\n",
       "      <td>10.108765</td>\n",
       "      <td>83.341319</td>\n",
       "      <td>5.242255</td>\n",
       "    </tr>\n",
       "    <tr>\n",
       "      <th>75%</th>\n",
       "      <td>105.173594</td>\n",
       "      <td>13.150000</td>\n",
       "      <td>36.219880</td>\n",
       "      <td>105.246349</td>\n",
       "      <td>13.585598</td>\n",
       "    </tr>\n",
       "    <tr>\n",
       "      <th>max</th>\n",
       "      <td>160.264600</td>\n",
       "      <td>56.587800</td>\n",
       "      <td>1024.029180</td>\n",
       "      <td>160.257579</td>\n",
       "      <td>56.684719</td>\n",
       "    </tr>\n",
       "  </tbody>\n",
       "</table>\n",
       "</div>"
      ],
      "text/plain": [
       "         longitude     latitude  shore_distance  shore_longitude  \\\n",
       "count  7511.000000  7511.000000     7511.000000      7511.000000   \n",
       "mean     59.334247     6.505837       53.711327        59.280798   \n",
       "std      58.533689    10.532129      126.592636        58.549858   \n",
       "min    -163.992800   -34.903333        0.039189      -169.512766   \n",
       "25%      10.133750     0.841667        2.922736         9.846121   \n",
       "50%      83.416667     5.033333       10.108765        83.341319   \n",
       "75%     105.173594    13.150000       36.219880       105.246349   \n",
       "max     160.264600    56.587800     1024.029180       160.257579   \n",
       "\n",
       "       shore_latitude  \n",
       "count     7511.000000  \n",
       "mean         6.599277  \n",
       "std         10.609951  \n",
       "min        -34.898696  \n",
       "25%          0.893744  \n",
       "50%          5.242255  \n",
       "75%         13.585598  \n",
       "max         56.684719  "
      ]
     },
     "execution_count": 241,
     "metadata": {},
     "output_type": "execute_result"
    }
   ],
   "source": [
    "df3.describe()"
   ]
  },
  {
   "cell_type": "code",
   "execution_count": 242,
   "id": "2f313b0b",
   "metadata": {},
   "outputs": [
    {
     "data": {
      "text/plain": [
       "np.int64(20)"
      ]
     },
     "execution_count": 242,
     "metadata": {},
     "output_type": "execute_result"
    }
   ],
   "source": [
    "df3.duplicated().sum()"
   ]
  },
  {
   "cell_type": "code",
   "execution_count": 243,
   "id": "1f914828",
   "metadata": {},
   "outputs": [
    {
     "data": {
      "application/vnd.microsoft.datawrangler.viewer.v0+json": {
       "columns": [
        {
         "name": "index",
         "rawType": "object",
         "type": "string"
        },
        {
         "name": "0",
         "rawType": "int64",
         "type": "integer"
        }
       ],
       "ref": "6f6e472f-52ed-4613-bbb0-3a7a9c7e7a37",
       "rows": [
        [
         "date",
         "0"
        ],
        [
         "time",
         "6362"
        ],
        [
         "longitude",
         "0"
        ],
        [
         "latitude",
         "0"
        ],
        [
         "attack_type",
         "120"
        ],
        [
         "location_description",
         "8"
        ],
        [
         "nearest_country",
         "19"
        ],
        [
         "eez_country",
         "295"
        ],
        [
         "shore_distance",
         "0"
        ],
        [
         "shore_longitude",
         "0"
        ],
        [
         "shore_latitude",
         "0"
        ],
        [
         "attack_description",
         "6338"
        ],
        [
         "vessel_name",
         "1432"
        ],
        [
         "vessel_type",
         "6338"
        ],
        [
         "vessel_status",
         "912"
        ],
        [
         "data_source",
         "0"
        ]
       ],
       "shape": {
        "columns": 1,
        "rows": 16
       }
      },
      "text/plain": [
       "date                       0\n",
       "time                    6362\n",
       "longitude                  0\n",
       "latitude                   0\n",
       "attack_type              120\n",
       "location_description       8\n",
       "nearest_country           19\n",
       "eez_country              295\n",
       "shore_distance             0\n",
       "shore_longitude            0\n",
       "shore_latitude             0\n",
       "attack_description      6338\n",
       "vessel_name             1432\n",
       "vessel_type             6338\n",
       "vessel_status            912\n",
       "data_source                0\n",
       "dtype: int64"
      ]
     },
     "execution_count": 243,
     "metadata": {},
     "output_type": "execute_result"
    }
   ],
   "source": [
    "df3.isna().sum()"
   ]
  },
  {
   "cell_type": "code",
   "execution_count": 244,
   "id": "5505ba7d",
   "metadata": {},
   "outputs": [],
   "source": [
    "df3['attack_type'] = df3['attack_type'].fillna('Unknown')\n",
    "df3['eez_country'] = df3['eez_country'].fillna('Unknown')\n"
   ]
  },
  {
   "cell_type": "code",
   "execution_count": 245,
   "id": "ea34125d",
   "metadata": {},
   "outputs": [],
   "source": [
    "df3['time'] = df3['time'].fillna('Unknown')\n"
   ]
  },
  {
   "cell_type": "code",
   "execution_count": 246,
   "id": "0baf7abb",
   "metadata": {},
   "outputs": [
    {
     "data": {
      "application/vnd.microsoft.datawrangler.viewer.v0+json": {
       "columns": [
        {
         "name": "index",
         "rawType": "int64",
         "type": "integer"
        },
        {
         "name": "location_description",
         "rawType": "object",
         "type": "string"
        }
       ],
       "ref": "fa63f7a0-b46d-405c-acf3-d404d7b4ef84",
       "rows": [
        [
         "0",
         "Hong Kong - Luzon - Hainan"
        ],
        [
         "1",
         "Hong Kong - Luzon - Hainan"
        ],
        [
         "2",
         "Hong Kong - Luzon - Hainan"
        ],
        [
         "3",
         "East China Sea"
        ],
        [
         "4",
         "Hong Kong - Luzon - Hainan"
        ],
        [
         "5",
         "Gulf of Thailand. South China Sea"
        ],
        [
         "6",
         "South China Sea"
        ],
        [
         "7",
         "East China Sea"
        ],
        [
         "8",
         "Luanda, Angola"
        ],
        [
         "9",
         "South China Sea"
        ],
        [
         "10",
         "Port of Luanda, Angola"
        ],
        [
         "11",
         "East China Sea"
        ],
        [
         "12",
         "Bonny Anchorage, Nigeria"
        ],
        [
         "13",
         "Hong Kong - Luzon - Hainan"
        ],
        [
         "14",
         "7.4 miles SE of Waglan. South China Sea"
        ],
        [
         "15",
         "Hong Kong - Luzon - Hainan"
        ],
        [
         "16",
         "Dar-Es-Salam Anchor, Tanzania"
        ],
        [
         "17",
         "Hong Kong - Luzon - Hainan"
        ],
        [
         "19",
         "Dar-Es-Salam Roads, Tanzania"
        ],
        [
         "20",
         "Western Luzon. Hong Kong - Luzon - Hainan"
        ],
        [
         "21",
         "South China Sea"
        ],
        [
         "22",
         "East China Sea"
        ],
        [
         "23",
         "Base Creek, Anchor. Arabian Sea"
        ],
        [
         "24",
         "Somalia"
        ],
        [
         "25",
         "Taiwan Sea"
        ],
        [
         "26",
         "Hong Kong - Luzon - Hainan"
        ],
        [
         "27",
         "Straits of Malacca-Indonesia"
        ],
        [
         "28",
         "East China Sea"
        ],
        [
         "29",
         "SW of Hong Kong. Hong Kong - Luzon - Hainan"
        ],
        [
         "30",
         "South China Sea"
        ],
        [
         "31",
         "South China Sea"
        ],
        [
         "32",
         "East China Sea"
        ],
        [
         "33",
         "Anchorage, Rio de Janeiro, Brazil"
        ],
        [
         "34",
         "30 miles East of Waglan. Hong Kong - Luzon - Hainan"
        ],
        [
         "35",
         "Hong Kong - Luzon - Hainan"
        ],
        [
         "36",
         "Hong Kong - Luzon - Hainan"
        ],
        [
         "37",
         "South China Sea"
        ],
        [
         "38",
         "Hong Kong Harbour. Hong Kong - Luzon - Hainan"
        ],
        [
         "39",
         "Hong Kong - Luzon - Hainan"
        ],
        [
         "40",
         "Hong Kong - Luzon - Hainan"
        ],
        [
         "41",
         "Belawan Port. Straits of Malacca-Indonesia"
        ],
        [
         "42",
         "Hong Kong - Luzon - Hainan"
        ],
        [
         "43",
         "Hong Kong - Luzon - Hainan"
        ],
        [
         "44",
         "Hong Kong - Luzon - Hainan"
        ],
        [
         "45",
         "East China Sea"
        ],
        [
         "46",
         "300 miles South of Hong Kong. Hong Kong - Luzon - Hainan"
        ],
        [
         "47",
         "East China Sea"
        ],
        [
         "48",
         "South China Sea"
        ],
        [
         "49",
         "235 miles SE of Hong Kong. Hong Kong - Luzon - Hainan"
        ],
        [
         "50",
         "East China Sea"
        ]
       ],
       "shape": {
        "columns": 1,
        "rows": 7503
       }
      },
      "text/plain": [
       "0               Hong Kong - Luzon - Hainan\n",
       "1               Hong Kong - Luzon - Hainan\n",
       "2               Hong Kong - Luzon - Hainan\n",
       "3                           East China Sea\n",
       "4               Hong Kong - Luzon - Hainan\n",
       "                       ...                \n",
       "7506             Around 165nm SSW of Brass\n",
       "7507           Around 100nm South of Brass\n",
       "7508    Around 107nm SSW of Brass, Nigeria\n",
       "7509                    Takoradi Anchorage\n",
       "7510            Around 94nm South of Brass\n",
       "Name: location_description, Length: 7503, dtype: object"
      ]
     },
     "execution_count": 246,
     "metadata": {},
     "output_type": "execute_result"
    }
   ],
   "source": [
    "df3['location_description'].dropna()"
   ]
  },
  {
   "cell_type": "code",
   "execution_count": 247,
   "id": "b53e29d7",
   "metadata": {},
   "outputs": [],
   "source": [
    "df3['nearest_country'] = df3['nearest_country'].dropna()\n",
    "df3['location_description'] = df3['location_description'].dropna()\n",
    "df3['nearest_country'] = df3['nearest_country'].dropna()"
   ]
  },
  {
   "cell_type": "code",
   "execution_count": 248,
   "id": "d2ae7fb6",
   "metadata": {},
   "outputs": [],
   "source": [
    "df3['attack_description'] = df3['attack_description'].fillna('Unknown')\n",
    "df3['vessel_name'] = df3['vessel_name'].fillna('Unknown')\n",
    "df3['vessel_type'] = df3['vessel_type'].fillna('Unknown')\n",
    "df3['vessel_status'] = df3['vessel_status'].fillna('Unknown')"
   ]
  },
  {
   "cell_type": "code",
   "execution_count": 249,
   "id": "aa583336",
   "metadata": {},
   "outputs": [
    {
     "data": {
      "application/vnd.microsoft.datawrangler.viewer.v0+json": {
       "columns": [
        {
         "name": "index",
         "rawType": "object",
         "type": "string"
        },
        {
         "name": "0",
         "rawType": "int64",
         "type": "integer"
        }
       ],
       "ref": "079b1b28-5d8f-4382-86b0-a151a079c36a",
       "rows": [
        [
         "date",
         "0"
        ],
        [
         "time",
         "0"
        ],
        [
         "longitude",
         "0"
        ],
        [
         "latitude",
         "0"
        ],
        [
         "attack_type",
         "0"
        ],
        [
         "location_description",
         "8"
        ],
        [
         "nearest_country",
         "19"
        ],
        [
         "eez_country",
         "0"
        ],
        [
         "shore_distance",
         "0"
        ],
        [
         "shore_longitude",
         "0"
        ],
        [
         "shore_latitude",
         "0"
        ],
        [
         "attack_description",
         "0"
        ],
        [
         "vessel_name",
         "0"
        ],
        [
         "vessel_type",
         "0"
        ],
        [
         "vessel_status",
         "0"
        ],
        [
         "data_source",
         "0"
        ]
       ],
       "shape": {
        "columns": 1,
        "rows": 16
       }
      },
      "text/plain": [
       "date                     0\n",
       "time                     0\n",
       "longitude                0\n",
       "latitude                 0\n",
       "attack_type              0\n",
       "location_description     8\n",
       "nearest_country         19\n",
       "eez_country              0\n",
       "shore_distance           0\n",
       "shore_longitude          0\n",
       "shore_latitude           0\n",
       "attack_description       0\n",
       "vessel_name              0\n",
       "vessel_type              0\n",
       "vessel_status            0\n",
       "data_source              0\n",
       "dtype: int64"
      ]
     },
     "execution_count": 249,
     "metadata": {},
     "output_type": "execute_result"
    }
   ],
   "source": [
    "df3.isna().sum()"
   ]
  },
  {
   "cell_type": "code",
   "execution_count": 251,
   "id": "40037701",
   "metadata": {},
   "outputs": [],
   "source": [
    "df.to_csv(r\"D:\\portfolio\\ARcraft\\final project\\project 3\\data\\processed\\country_codes_clnd.csv\", index=False)\n",
    "df2.to_csv(r\"D:\\portfolio\\ARcraft\\final project\\project 3\\data\\processed\\country_indicators.csv\", index=False)\n",
    "df3.to_csv(r\"D:\\portfolio\\ARcraft\\final project\\project 3\\data\\processed\\pirate_attacks.csv\", index=False)"
   ]
  },
  {
   "cell_type": "code",
   "execution_count": null,
   "id": "94d33fb5",
   "metadata": {},
   "outputs": [],
   "source": []
  }
 ],
 "metadata": {
  "kernelspec": {
   "display_name": "Python 3",
   "language": "python",
   "name": "python3"
  },
  "language_info": {
   "codemirror_mode": {
    "name": "ipython",
    "version": 3
   },
   "file_extension": ".py",
   "mimetype": "text/x-python",
   "name": "python",
   "nbconvert_exporter": "python",
   "pygments_lexer": "ipython3",
   "version": "3.13.1"
  }
 },
 "nbformat": 4,
 "nbformat_minor": 5
}
